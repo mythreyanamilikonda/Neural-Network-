{
  "nbformat": 4,
  "nbformat_minor": 0,
  "metadata": {
    "colab": {
      "provenance": [],
      "gpuType": "T4"
    },
    "kernelspec": {
      "name": "python3",
      "display_name": "Python 3"
    },
    "language_info": {
      "name": "python"
    },
    "accelerator": "GPU"
  },
  "cells": [
    {
      "cell_type": "markdown",
      "source": [
        "# Data import and initial Exloration\n"
      ],
      "metadata": {
        "id": "m0drBAK2ezVB"
      }
    },
    {
      "cell_type": "code",
      "execution_count": 10,
      "metadata": {
        "id": "J0wdyx97hkEL",
        "colab": {
          "base_uri": "https://localhost:8080/"
        },
        "outputId": "866646c3-ec17-4168-ac7e-62a40dfdfbdc"
      },
      "outputs": [
        {
          "output_type": "execute_result",
          "data": {
            "text/plain": [
              "Index(['id', 'loan_amnt', 'funded_amnt', 'int_rate', 'installment', 'grade',\n",
              "       'sub_grade', 'emp_length', 'home_ownership', 'annual_inc',\n",
              "       'verification_status', 'issue_d', 'loan_status', 'purpose', 'zip_code',\n",
              "       'addr_state', 'dti', 'delinq_2yrs', 'earliest_cr_line',\n",
              "       'fico_range_low', 'fico_range_high', 'inq_last_6mths',\n",
              "       'mths_since_last_delinq', 'open_acc', 'pub_rec', 'revol_bal',\n",
              "       'revol_util', 'total_acc', 'collections_12_mths_ex_med',\n",
              "       'acc_now_delinq', 'chargeoff_within_12_mths', 'delinq_amnt',\n",
              "       'pub_rec_bankruptcies', 'tax_liens', 'year', 'early_default', 'return'],\n",
              "      dtype='object')"
            ]
          },
          "metadata": {},
          "execution_count": 10
        }
      ],
      "source": [
        "import pandas as pd\n",
        "import matplotlib.pyplot as plt\n",
        "import seaborn as sns\n",
        "import numpy as np\n",
        "\n",
        "# data = pd.read_excel('/content/minisample_500.xlsx')\n",
        "data = pd.read_csv('/content/lc_loan.csv')\n",
        "# data = data[:100000]\n",
        "data.columns"
      ]
    },
    {
      "cell_type": "code",
      "source": [
        "test_data = pd.read_csv('/content/lc_loan_test.csv')\n",
        "data.columns"
      ],
      "metadata": {
        "colab": {
          "base_uri": "https://localhost:8080/"
        },
        "id": "hKN0ppwFBzxu",
        "outputId": "d4bc97b2-e19c-429a-a51d-46a97476d009"
      },
      "execution_count": 11,
      "outputs": [
        {
          "output_type": "execute_result",
          "data": {
            "text/plain": [
              "Index(['id', 'loan_amnt', 'funded_amnt', 'int_rate', 'installment', 'grade',\n",
              "       'sub_grade', 'emp_length', 'home_ownership', 'annual_inc',\n",
              "       'verification_status', 'issue_d', 'loan_status', 'purpose', 'zip_code',\n",
              "       'addr_state', 'dti', 'delinq_2yrs', 'earliest_cr_line',\n",
              "       'fico_range_low', 'fico_range_high', 'inq_last_6mths',\n",
              "       'mths_since_last_delinq', 'open_acc', 'pub_rec', 'revol_bal',\n",
              "       'revol_util', 'total_acc', 'collections_12_mths_ex_med',\n",
              "       'acc_now_delinq', 'chargeoff_within_12_mths', 'delinq_amnt',\n",
              "       'pub_rec_bankruptcies', 'tax_liens', 'year', 'early_default', 'return'],\n",
              "      dtype='object')"
            ]
          },
          "metadata": {},
          "execution_count": 11
        }
      ]
    },
    {
      "cell_type": "code",
      "source": [
        "set(data.columns)-set(test_data.columns)"
      ],
      "metadata": {
        "colab": {
          "base_uri": "https://localhost:8080/"
        },
        "id": "rX8VnK3uDCz0",
        "outputId": "46a7bf8d-f627-4d4a-b33c-11608b896b37"
      },
      "execution_count": 12,
      "outputs": [
        {
          "output_type": "execute_result",
          "data": {
            "text/plain": [
              "{'early_default', 'loan_status', 'return'}"
            ]
          },
          "metadata": {},
          "execution_count": 12
        }
      ]
    },
    {
      "cell_type": "code",
      "source": [
        "data = data.drop(columns=['id','zip_code','issue_d','earliest_cr_line', 'purpose', 'early_default'])\n",
        "test_data = test_data.drop(columns=['id','zip_code','issue_d','earliest_cr_line', 'purpose',])"
      ],
      "metadata": {
        "id": "izgpuGd9CxKg"
      },
      "execution_count": 13,
      "outputs": []
    },
    {
      "cell_type": "code",
      "source": [
        "# prompt: no of rows and columns\n",
        "\n",
        "print(data.shape)\n",
        "print(test_data.shape)\n"
      ],
      "metadata": {
        "colab": {
          "base_uri": "https://localhost:8080/"
        },
        "id": "j6jjisdSivkL",
        "outputId": "09bb8dee-f1a6-48d0-d9b4-ced0052d5375"
      },
      "execution_count": 14,
      "outputs": [
        {
          "output_type": "stream",
          "name": "stdout",
          "text": [
            "(933160, 31)\n",
            "(112858, 29)\n"
          ]
        }
      ]
    },
    {
      "cell_type": "code",
      "source": [
        "  # Summary statistics\n",
        "summary_stats = data.describe()\n",
        "print(summary_stats)"
      ],
      "metadata": {
        "colab": {
          "base_uri": "https://localhost:8080/"
        },
        "id": "BTuwm_OafJcg",
        "outputId": "c19413f4-8d5c-490d-c671-79aed0ab4a5a"
      },
      "execution_count": 15,
      "outputs": [
        {
          "output_type": "stream",
          "name": "stdout",
          "text": [
            "           loan_amnt    funded_amnt       int_rate    installment  \\\n",
            "count  933160.000000  933160.000000  933160.000000  933160.000000   \n",
            "mean    12559.115559   12555.207923       0.119775     416.318741   \n",
            "std      8042.750083    8041.765370       0.039952     268.816718   \n",
            "min       500.000000     500.000000       0.053200      14.010000   \n",
            "25%      6425.000000    6400.000000       0.089000     215.630000   \n",
            "50%     10000.000000   10000.000000       0.115300     339.310000   \n",
            "75%     16275.000000   16200.000000       0.143300     549.940000   \n",
            "max     40000.000000   40000.000000       0.309900    1584.900000   \n",
            "\n",
            "         annual_inc            dti    delinq_2yrs  fico_range_low  \\\n",
            "count  9.331600e+05  933160.000000  933160.000000   933160.000000   \n",
            "mean   7.412200e+04      17.833822       0.331903      695.139858   \n",
            "std    6.938399e+04       8.377159       0.899913       31.359123   \n",
            "min    3.000000e+03      -1.000000       0.000000      660.000000   \n",
            "25%    4.400000e+04      11.520000       0.000000      670.000000   \n",
            "50%    6.200000e+04      17.280000       0.000000      690.000000   \n",
            "75%    9.000000e+04      23.700000       0.000000      710.000000   \n",
            "max    9.573072e+06      49.960000      30.000000      845.000000   \n",
            "\n",
            "       fico_range_high  inq_last_6mths  ...     revol_util      total_acc  \\\n",
            "count    933160.000000   933160.000000  ...  933160.000000  933160.000000   \n",
            "mean        699.139987        0.642513  ...       0.523420      24.273673   \n",
            "std          31.359739        0.932181  ...       0.240878      11.821678   \n",
            "min         664.000000        0.000000  ...       0.000000       2.000000   \n",
            "25%         674.000000        0.000000  ...       0.344000      16.000000   \n",
            "50%         694.000000        0.000000  ...       0.526000      23.000000   \n",
            "75%         714.000000        1.000000  ...       0.708000      31.000000   \n",
            "max         850.000000        8.000000  ...       8.923000     176.000000   \n",
            "\n",
            "       collections_12_mths_ex_med  acc_now_delinq  chargeoff_within_12_mths  \\\n",
            "count               933160.000000   933160.000000             933160.000000   \n",
            "mean                     0.017552        0.005535                  0.009021   \n",
            "std                      0.150952        0.081488                  0.109379   \n",
            "min                      0.000000        0.000000                  0.000000   \n",
            "25%                      0.000000        0.000000                  0.000000   \n",
            "50%                      0.000000        0.000000                  0.000000   \n",
            "75%                      0.000000        0.000000                  0.000000   \n",
            "max                     20.000000       14.000000                 10.000000   \n",
            "\n",
            "         delinq_amnt  pub_rec_bankruptcies      tax_liens           year  \\\n",
            "count  933160.000000         933160.000000  933160.000000  933160.000000   \n",
            "mean       16.503873              0.131776       0.058994    2014.668122   \n",
            "std       846.056594              0.380174       0.435106       1.398096   \n",
            "min         0.000000              0.000000       0.000000    2008.000000   \n",
            "25%         0.000000              0.000000       0.000000    2014.000000   \n",
            "50%         0.000000              0.000000       0.000000    2015.000000   \n",
            "75%         0.000000              0.000000       0.000000    2016.000000   \n",
            "max    185408.000000             12.000000      85.000000    2016.000000   \n",
            "\n",
            "              return  \n",
            "count  933160.000000  \n",
            "mean        0.065197  \n",
            "std         0.247727  \n",
            "min        -1.000000  \n",
            "25%         0.073529  \n",
            "50%         0.127677  \n",
            "75%         0.188737  \n",
            "max         0.581820  \n",
            "\n",
            "[8 rows x 24 columns]\n"
          ]
        }
      ]
    },
    {
      "cell_type": "code",
      "source": [
        "data.head()"
      ],
      "metadata": {
        "colab": {
          "base_uri": "https://localhost:8080/",
          "height": 255
        },
        "id": "aX3ZqYlkOqNy",
        "outputId": "9541e681-6a69-4e7a-cf7c-ea2bde713175",
        "collapsed": true
      },
      "execution_count": 16,
      "outputs": [
        {
          "output_type": "execute_result",
          "data": {
            "text/plain": [
              "   loan_amnt  funded_amnt  int_rate  installment grade sub_grade emp_length  \\\n",
              "0     5000.0       5000.0    0.1065       162.87     B        B2  10+ years   \n",
              "1     2400.0       2400.0    0.1596        84.33     C        C5  10+ years   \n",
              "2    10000.0      10000.0    0.1349       339.31     C        C1  10+ years   \n",
              "3     5000.0       5000.0    0.0790       156.46     A        A4    3 years   \n",
              "4     3000.0       3000.0    0.1864       109.43     E        E1    9 years   \n",
              "\n",
              "  home_ownership  annual_inc verification_status  ... revol_util total_acc  \\\n",
              "0           RENT     24000.0            Verified  ...      0.837       9.0   \n",
              "1           RENT     12252.0        Not Verified  ...      0.985      10.0   \n",
              "2           RENT     49200.0     Source Verified  ...      0.210      37.0   \n",
              "3           RENT     36000.0     Source Verified  ...      0.283      12.0   \n",
              "4           RENT     48000.0     Source Verified  ...      0.875       4.0   \n",
              "\n",
              "   collections_12_mths_ex_med  acc_now_delinq  chargeoff_within_12_mths  \\\n",
              "0                         0.0             0.0                       0.0   \n",
              "1                         0.0             0.0                       0.0   \n",
              "2                         0.0             0.0                       0.0   \n",
              "3                         0.0             0.0                       0.0   \n",
              "4                         0.0             0.0                       0.0   \n",
              "\n",
              "   delinq_amnt  pub_rec_bankruptcies  tax_liens  year    return  \n",
              "0          0.0                   0.0        0.0  2011  0.172631  \n",
              "1          0.0                   0.0        0.0  2011  0.252361  \n",
              "2          0.0                   0.0        0.0  2011  0.223189  \n",
              "3          0.0                   0.0        0.0  2011  0.126442  \n",
              "4          0.0                   0.0        0.0  2011  0.313045  \n",
              "\n",
              "[5 rows x 31 columns]"
            ],
            "text/html": [
              "\n",
              "  <div id=\"df-786c47d7-0a6c-405b-a6a5-5ff67dee5b5a\" class=\"colab-df-container\">\n",
              "    <div>\n",
              "<style scoped>\n",
              "    .dataframe tbody tr th:only-of-type {\n",
              "        vertical-align: middle;\n",
              "    }\n",
              "\n",
              "    .dataframe tbody tr th {\n",
              "        vertical-align: top;\n",
              "    }\n",
              "\n",
              "    .dataframe thead th {\n",
              "        text-align: right;\n",
              "    }\n",
              "</style>\n",
              "<table border=\"1\" class=\"dataframe\">\n",
              "  <thead>\n",
              "    <tr style=\"text-align: right;\">\n",
              "      <th></th>\n",
              "      <th>loan_amnt</th>\n",
              "      <th>funded_amnt</th>\n",
              "      <th>int_rate</th>\n",
              "      <th>installment</th>\n",
              "      <th>grade</th>\n",
              "      <th>sub_grade</th>\n",
              "      <th>emp_length</th>\n",
              "      <th>home_ownership</th>\n",
              "      <th>annual_inc</th>\n",
              "      <th>verification_status</th>\n",
              "      <th>...</th>\n",
              "      <th>revol_util</th>\n",
              "      <th>total_acc</th>\n",
              "      <th>collections_12_mths_ex_med</th>\n",
              "      <th>acc_now_delinq</th>\n",
              "      <th>chargeoff_within_12_mths</th>\n",
              "      <th>delinq_amnt</th>\n",
              "      <th>pub_rec_bankruptcies</th>\n",
              "      <th>tax_liens</th>\n",
              "      <th>year</th>\n",
              "      <th>return</th>\n",
              "    </tr>\n",
              "  </thead>\n",
              "  <tbody>\n",
              "    <tr>\n",
              "      <th>0</th>\n",
              "      <td>5000.0</td>\n",
              "      <td>5000.0</td>\n",
              "      <td>0.1065</td>\n",
              "      <td>162.87</td>\n",
              "      <td>B</td>\n",
              "      <td>B2</td>\n",
              "      <td>10+ years</td>\n",
              "      <td>RENT</td>\n",
              "      <td>24000.0</td>\n",
              "      <td>Verified</td>\n",
              "      <td>...</td>\n",
              "      <td>0.837</td>\n",
              "      <td>9.0</td>\n",
              "      <td>0.0</td>\n",
              "      <td>0.0</td>\n",
              "      <td>0.0</td>\n",
              "      <td>0.0</td>\n",
              "      <td>0.0</td>\n",
              "      <td>0.0</td>\n",
              "      <td>2011</td>\n",
              "      <td>0.172631</td>\n",
              "    </tr>\n",
              "    <tr>\n",
              "      <th>1</th>\n",
              "      <td>2400.0</td>\n",
              "      <td>2400.0</td>\n",
              "      <td>0.1596</td>\n",
              "      <td>84.33</td>\n",
              "      <td>C</td>\n",
              "      <td>C5</td>\n",
              "      <td>10+ years</td>\n",
              "      <td>RENT</td>\n",
              "      <td>12252.0</td>\n",
              "      <td>Not Verified</td>\n",
              "      <td>...</td>\n",
              "      <td>0.985</td>\n",
              "      <td>10.0</td>\n",
              "      <td>0.0</td>\n",
              "      <td>0.0</td>\n",
              "      <td>0.0</td>\n",
              "      <td>0.0</td>\n",
              "      <td>0.0</td>\n",
              "      <td>0.0</td>\n",
              "      <td>2011</td>\n",
              "      <td>0.252361</td>\n",
              "    </tr>\n",
              "    <tr>\n",
              "      <th>2</th>\n",
              "      <td>10000.0</td>\n",
              "      <td>10000.0</td>\n",
              "      <td>0.1349</td>\n",
              "      <td>339.31</td>\n",
              "      <td>C</td>\n",
              "      <td>C1</td>\n",
              "      <td>10+ years</td>\n",
              "      <td>RENT</td>\n",
              "      <td>49200.0</td>\n",
              "      <td>Source Verified</td>\n",
              "      <td>...</td>\n",
              "      <td>0.210</td>\n",
              "      <td>37.0</td>\n",
              "      <td>0.0</td>\n",
              "      <td>0.0</td>\n",
              "      <td>0.0</td>\n",
              "      <td>0.0</td>\n",
              "      <td>0.0</td>\n",
              "      <td>0.0</td>\n",
              "      <td>2011</td>\n",
              "      <td>0.223189</td>\n",
              "    </tr>\n",
              "    <tr>\n",
              "      <th>3</th>\n",
              "      <td>5000.0</td>\n",
              "      <td>5000.0</td>\n",
              "      <td>0.0790</td>\n",
              "      <td>156.46</td>\n",
              "      <td>A</td>\n",
              "      <td>A4</td>\n",
              "      <td>3 years</td>\n",
              "      <td>RENT</td>\n",
              "      <td>36000.0</td>\n",
              "      <td>Source Verified</td>\n",
              "      <td>...</td>\n",
              "      <td>0.283</td>\n",
              "      <td>12.0</td>\n",
              "      <td>0.0</td>\n",
              "      <td>0.0</td>\n",
              "      <td>0.0</td>\n",
              "      <td>0.0</td>\n",
              "      <td>0.0</td>\n",
              "      <td>0.0</td>\n",
              "      <td>2011</td>\n",
              "      <td>0.126442</td>\n",
              "    </tr>\n",
              "    <tr>\n",
              "      <th>4</th>\n",
              "      <td>3000.0</td>\n",
              "      <td>3000.0</td>\n",
              "      <td>0.1864</td>\n",
              "      <td>109.43</td>\n",
              "      <td>E</td>\n",
              "      <td>E1</td>\n",
              "      <td>9 years</td>\n",
              "      <td>RENT</td>\n",
              "      <td>48000.0</td>\n",
              "      <td>Source Verified</td>\n",
              "      <td>...</td>\n",
              "      <td>0.875</td>\n",
              "      <td>4.0</td>\n",
              "      <td>0.0</td>\n",
              "      <td>0.0</td>\n",
              "      <td>0.0</td>\n",
              "      <td>0.0</td>\n",
              "      <td>0.0</td>\n",
              "      <td>0.0</td>\n",
              "      <td>2011</td>\n",
              "      <td>0.313045</td>\n",
              "    </tr>\n",
              "  </tbody>\n",
              "</table>\n",
              "<p>5 rows × 31 columns</p>\n",
              "</div>\n",
              "    <div class=\"colab-df-buttons\">\n",
              "\n",
              "  <div class=\"colab-df-container\">\n",
              "    <button class=\"colab-df-convert\" onclick=\"convertToInteractive('df-786c47d7-0a6c-405b-a6a5-5ff67dee5b5a')\"\n",
              "            title=\"Convert this dataframe to an interactive table.\"\n",
              "            style=\"display:none;\">\n",
              "\n",
              "  <svg xmlns=\"http://www.w3.org/2000/svg\" height=\"24px\" viewBox=\"0 -960 960 960\">\n",
              "    <path d=\"M120-120v-720h720v720H120Zm60-500h600v-160H180v160Zm220 220h160v-160H400v160Zm0 220h160v-160H400v160ZM180-400h160v-160H180v160Zm440 0h160v-160H620v160ZM180-180h160v-160H180v160Zm440 0h160v-160H620v160Z\"/>\n",
              "  </svg>\n",
              "    </button>\n",
              "\n",
              "  <style>\n",
              "    .colab-df-container {\n",
              "      display:flex;\n",
              "      gap: 12px;\n",
              "    }\n",
              "\n",
              "    .colab-df-convert {\n",
              "      background-color: #E8F0FE;\n",
              "      border: none;\n",
              "      border-radius: 50%;\n",
              "      cursor: pointer;\n",
              "      display: none;\n",
              "      fill: #1967D2;\n",
              "      height: 32px;\n",
              "      padding: 0 0 0 0;\n",
              "      width: 32px;\n",
              "    }\n",
              "\n",
              "    .colab-df-convert:hover {\n",
              "      background-color: #E2EBFA;\n",
              "      box-shadow: 0px 1px 2px rgba(60, 64, 67, 0.3), 0px 1px 3px 1px rgba(60, 64, 67, 0.15);\n",
              "      fill: #174EA6;\n",
              "    }\n",
              "\n",
              "    .colab-df-buttons div {\n",
              "      margin-bottom: 4px;\n",
              "    }\n",
              "\n",
              "    [theme=dark] .colab-df-convert {\n",
              "      background-color: #3B4455;\n",
              "      fill: #D2E3FC;\n",
              "    }\n",
              "\n",
              "    [theme=dark] .colab-df-convert:hover {\n",
              "      background-color: #434B5C;\n",
              "      box-shadow: 0px 1px 3px 1px rgba(0, 0, 0, 0.15);\n",
              "      filter: drop-shadow(0px 1px 2px rgba(0, 0, 0, 0.3));\n",
              "      fill: #FFFFFF;\n",
              "    }\n",
              "  </style>\n",
              "\n",
              "    <script>\n",
              "      const buttonEl =\n",
              "        document.querySelector('#df-786c47d7-0a6c-405b-a6a5-5ff67dee5b5a button.colab-df-convert');\n",
              "      buttonEl.style.display =\n",
              "        google.colab.kernel.accessAllowed ? 'block' : 'none';\n",
              "\n",
              "      async function convertToInteractive(key) {\n",
              "        const element = document.querySelector('#df-786c47d7-0a6c-405b-a6a5-5ff67dee5b5a');\n",
              "        const dataTable =\n",
              "          await google.colab.kernel.invokeFunction('convertToInteractive',\n",
              "                                                    [key], {});\n",
              "        if (!dataTable) return;\n",
              "\n",
              "        const docLinkHtml = 'Like what you see? Visit the ' +\n",
              "          '<a target=\"_blank\" href=https://colab.research.google.com/notebooks/data_table.ipynb>data table notebook</a>'\n",
              "          + ' to learn more about interactive tables.';\n",
              "        element.innerHTML = '';\n",
              "        dataTable['output_type'] = 'display_data';\n",
              "        await google.colab.output.renderOutput(dataTable, element);\n",
              "        const docLink = document.createElement('div');\n",
              "        docLink.innerHTML = docLinkHtml;\n",
              "        element.appendChild(docLink);\n",
              "      }\n",
              "    </script>\n",
              "  </div>\n",
              "\n",
              "\n",
              "<div id=\"df-614da61b-b0ae-400d-a974-1f6fdf00634c\">\n",
              "  <button class=\"colab-df-quickchart\" onclick=\"quickchart('df-614da61b-b0ae-400d-a974-1f6fdf00634c')\"\n",
              "            title=\"Suggest charts\"\n",
              "            style=\"display:none;\">\n",
              "\n",
              "<svg xmlns=\"http://www.w3.org/2000/svg\" height=\"24px\"viewBox=\"0 0 24 24\"\n",
              "     width=\"24px\">\n",
              "    <g>\n",
              "        <path d=\"M19 3H5c-1.1 0-2 .9-2 2v14c0 1.1.9 2 2 2h14c1.1 0 2-.9 2-2V5c0-1.1-.9-2-2-2zM9 17H7v-7h2v7zm4 0h-2V7h2v10zm4 0h-2v-4h2v4z\"/>\n",
              "    </g>\n",
              "</svg>\n",
              "  </button>\n",
              "\n",
              "<style>\n",
              "  .colab-df-quickchart {\n",
              "      --bg-color: #E8F0FE;\n",
              "      --fill-color: #1967D2;\n",
              "      --hover-bg-color: #E2EBFA;\n",
              "      --hover-fill-color: #174EA6;\n",
              "      --disabled-fill-color: #AAA;\n",
              "      --disabled-bg-color: #DDD;\n",
              "  }\n",
              "\n",
              "  [theme=dark] .colab-df-quickchart {\n",
              "      --bg-color: #3B4455;\n",
              "      --fill-color: #D2E3FC;\n",
              "      --hover-bg-color: #434B5C;\n",
              "      --hover-fill-color: #FFFFFF;\n",
              "      --disabled-bg-color: #3B4455;\n",
              "      --disabled-fill-color: #666;\n",
              "  }\n",
              "\n",
              "  .colab-df-quickchart {\n",
              "    background-color: var(--bg-color);\n",
              "    border: none;\n",
              "    border-radius: 50%;\n",
              "    cursor: pointer;\n",
              "    display: none;\n",
              "    fill: var(--fill-color);\n",
              "    height: 32px;\n",
              "    padding: 0;\n",
              "    width: 32px;\n",
              "  }\n",
              "\n",
              "  .colab-df-quickchart:hover {\n",
              "    background-color: var(--hover-bg-color);\n",
              "    box-shadow: 0 1px 2px rgba(60, 64, 67, 0.3), 0 1px 3px 1px rgba(60, 64, 67, 0.15);\n",
              "    fill: var(--button-hover-fill-color);\n",
              "  }\n",
              "\n",
              "  .colab-df-quickchart-complete:disabled,\n",
              "  .colab-df-quickchart-complete:disabled:hover {\n",
              "    background-color: var(--disabled-bg-color);\n",
              "    fill: var(--disabled-fill-color);\n",
              "    box-shadow: none;\n",
              "  }\n",
              "\n",
              "  .colab-df-spinner {\n",
              "    border: 2px solid var(--fill-color);\n",
              "    border-color: transparent;\n",
              "    border-bottom-color: var(--fill-color);\n",
              "    animation:\n",
              "      spin 1s steps(1) infinite;\n",
              "  }\n",
              "\n",
              "  @keyframes spin {\n",
              "    0% {\n",
              "      border-color: transparent;\n",
              "      border-bottom-color: var(--fill-color);\n",
              "      border-left-color: var(--fill-color);\n",
              "    }\n",
              "    20% {\n",
              "      border-color: transparent;\n",
              "      border-left-color: var(--fill-color);\n",
              "      border-top-color: var(--fill-color);\n",
              "    }\n",
              "    30% {\n",
              "      border-color: transparent;\n",
              "      border-left-color: var(--fill-color);\n",
              "      border-top-color: var(--fill-color);\n",
              "      border-right-color: var(--fill-color);\n",
              "    }\n",
              "    40% {\n",
              "      border-color: transparent;\n",
              "      border-right-color: var(--fill-color);\n",
              "      border-top-color: var(--fill-color);\n",
              "    }\n",
              "    60% {\n",
              "      border-color: transparent;\n",
              "      border-right-color: var(--fill-color);\n",
              "    }\n",
              "    80% {\n",
              "      border-color: transparent;\n",
              "      border-right-color: var(--fill-color);\n",
              "      border-bottom-color: var(--fill-color);\n",
              "    }\n",
              "    90% {\n",
              "      border-color: transparent;\n",
              "      border-bottom-color: var(--fill-color);\n",
              "    }\n",
              "  }\n",
              "</style>\n",
              "\n",
              "  <script>\n",
              "    async function quickchart(key) {\n",
              "      const quickchartButtonEl =\n",
              "        document.querySelector('#' + key + ' button');\n",
              "      quickchartButtonEl.disabled = true;  // To prevent multiple clicks.\n",
              "      quickchartButtonEl.classList.add('colab-df-spinner');\n",
              "      try {\n",
              "        const charts = await google.colab.kernel.invokeFunction(\n",
              "            'suggestCharts', [key], {});\n",
              "      } catch (error) {\n",
              "        console.error('Error during call to suggestCharts:', error);\n",
              "      }\n",
              "      quickchartButtonEl.classList.remove('colab-df-spinner');\n",
              "      quickchartButtonEl.classList.add('colab-df-quickchart-complete');\n",
              "    }\n",
              "    (() => {\n",
              "      let quickchartButtonEl =\n",
              "        document.querySelector('#df-614da61b-b0ae-400d-a974-1f6fdf00634c button');\n",
              "      quickchartButtonEl.style.display =\n",
              "        google.colab.kernel.accessAllowed ? 'block' : 'none';\n",
              "    })();\n",
              "  </script>\n",
              "</div>\n",
              "\n",
              "    </div>\n",
              "  </div>\n"
            ],
            "application/vnd.google.colaboratory.intrinsic+json": {
              "type": "dataframe",
              "variable_name": "data"
            }
          },
          "metadata": {},
          "execution_count": 16
        }
      ]
    },
    {
      "cell_type": "markdown",
      "source": [
        "# Data Cleaning and preprocessing"
      ],
      "metadata": {
        "id": "ONPZ0ZZHfS1Y"
      }
    },
    {
      "cell_type": "code",
      "source": [
        "# # Drop the 'mths_since_last_delinq' column since missing ~50%\n",
        "# data = data.drop('mths_since_last_delinq', axis=1)"
      ],
      "metadata": {
        "id": "H1JLgqTa00VT"
      },
      "execution_count": 17,
      "outputs": []
    },
    {
      "cell_type": "code",
      "source": [
        "# prompt: do median for missing values of  mths_since_last_delinq\n",
        "\n",
        "# Calculate the median of 'mths_since_last_delinq'\n",
        "median_mths_since_last_delinq = data['mths_since_last_delinq'].median()\n",
        "\n",
        "# Fill missing values with the median\n",
        "data['mths_since_last_delinq'].fillna(median_mths_since_last_delinq, inplace=True)\n"
      ],
      "metadata": {
        "colab": {
          "base_uri": "https://localhost:8080/"
        },
        "id": "bAfs-KKg-cTV",
        "outputId": "df27debc-2e89-469e-ee3f-92aba168519b"
      },
      "execution_count": 18,
      "outputs": [
        {
          "output_type": "stream",
          "name": "stderr",
          "text": [
            "<ipython-input-18-5cadbd22541f>:7: FutureWarning: A value is trying to be set on a copy of a DataFrame or Series through chained assignment using an inplace method.\n",
            "The behavior will change in pandas 3.0. This inplace method will never work because the intermediate object on which we are setting values always behaves as a copy.\n",
            "\n",
            "For example, when doing 'df[col].method(value, inplace=True)', try using 'df.method({col: value}, inplace=True)' or df[col] = df[col].method(value) instead, to perform the operation inplace on the original object.\n",
            "\n",
            "\n",
            "  data['mths_since_last_delinq'].fillna(median_mths_since_last_delinq, inplace=True)\n"
          ]
        }
      ]
    },
    {
      "cell_type": "code",
      "source": [
        "import numpy as np\n",
        "import pandas as pd\n",
        "\n",
        "# Function to convert emp_length to numeric values\n",
        "def convert_emp_length(emp_length):\n",
        "    if pd.isnull(emp_length):  # Handle NaN values\n",
        "        return np.nan\n",
        "    emp_length = str(emp_length)  # Convert to string to avoid AttributeError\n",
        "    if emp_length == '10+ years':\n",
        "        return 10\n",
        "    elif emp_length == '< 1 year':\n",
        "        return 0\n",
        "    elif emp_length.isdigit():  # Directly return if it's already a number\n",
        "        return int(emp_length)\n",
        "    else:\n",
        "        return int(emp_length.split()[0])  # Extract the numeric part if formatted as \"X years\"\n",
        "\n",
        "# Apply the conversion function to the emp_length column\n",
        "data['emp_length'] = data['emp_length'].apply(convert_emp_length)\n",
        "test_data['emp_length'] = test_data['emp_length'].apply(convert_emp_length)\n",
        "\n",
        "# Fill missing values using the median\n",
        "data['emp_length'].fillna(data['emp_length'].median(), inplace=True)\n",
        "test_data['emp_length'].fillna(test_data['emp_length'].median(), inplace=True)\n",
        "\n",
        "# Example loan status conversion (modify if your labels are different)\n",
        "loan_status_mapping = {\n",
        "    \"Fully Paid\": 0,\n",
        "    \"Charged Off\": 1,\n",
        "    \"Default\": 1,  # Optional: If your dataset has \"Default\" status, treat it as Charged Off\n",
        "    \"Late (31-120 days)\": 1,  # Optional: Consider these as high-risk loans\n",
        "}\n",
        "\n",
        "# Convert loan_status column\n",
        "data['loan_status'] = data['loan_status'].map(loan_status_mapping)\n",
        "\n",
        "# Drop rows where loan_status is still NaN (if there were any unmapped values)\n",
        "data.dropna(subset=['loan_status'], inplace=True)\n",
        "\n",
        "# Verify conversion\n",
        "print(data['loan_status'].value_counts())\n",
        "\n",
        "\n",
        "# Check results\n",
        "print(data['emp_length'].head())\n",
        "print(\"Missing values after filling:\", data['emp_length'].isnull().sum())\n"
      ],
      "metadata": {
        "colab": {
          "base_uri": "https://localhost:8080/"
        },
        "id": "lA0PzO_wU4Sb",
        "outputId": "a49aabf3-0bd8-4d31-bdb6-eae98acf5129"
      },
      "execution_count": 19,
      "outputs": [
        {
          "output_type": "stream",
          "name": "stderr",
          "text": [
            "<ipython-input-19-6bc3df4ee754>:23: FutureWarning: A value is trying to be set on a copy of a DataFrame or Series through chained assignment using an inplace method.\n",
            "The behavior will change in pandas 3.0. This inplace method will never work because the intermediate object on which we are setting values always behaves as a copy.\n",
            "\n",
            "For example, when doing 'df[col].method(value, inplace=True)', try using 'df.method({col: value}, inplace=True)' or df[col] = df[col].method(value) instead, to perform the operation inplace on the original object.\n",
            "\n",
            "\n",
            "  data['emp_length'].fillna(data['emp_length'].median(), inplace=True)\n",
            "<ipython-input-19-6bc3df4ee754>:24: FutureWarning: A value is trying to be set on a copy of a DataFrame or Series through chained assignment using an inplace method.\n",
            "The behavior will change in pandas 3.0. This inplace method will never work because the intermediate object on which we are setting values always behaves as a copy.\n",
            "\n",
            "For example, when doing 'df[col].method(value, inplace=True)', try using 'df.method({col: value}, inplace=True)' or df[col] = df[col].method(value) instead, to perform the operation inplace on the original object.\n",
            "\n",
            "\n",
            "  test_data['emp_length'].fillna(test_data['emp_length'].median(), inplace=True)\n"
          ]
        },
        {
          "output_type": "stream",
          "name": "stdout",
          "text": [
            "loan_status\n",
            "0    797918\n",
            "1    135242\n",
            "Name: count, dtype: int64\n",
            "0    10.0\n",
            "1    10.0\n",
            "2    10.0\n",
            "3     3.0\n",
            "4     9.0\n",
            "Name: emp_length, dtype: float64\n",
            "Missing values after filling: 0\n"
          ]
        }
      ]
    },
    {
      "cell_type": "code",
      "source": [
        "# prompt: find the missing values of the columns\n",
        "\n",
        "data.isnull().sum()\n"
      ],
      "metadata": {
        "colab": {
          "base_uri": "https://localhost:8080/",
          "height": 1000
        },
        "id": "yLnBYftAi12H",
        "outputId": "2d624b67-2598-4383-db11-7db62f98c1c4"
      },
      "execution_count": 20,
      "outputs": [
        {
          "output_type": "execute_result",
          "data": {
            "text/plain": [
              "loan_amnt                     0\n",
              "funded_amnt                   0\n",
              "int_rate                      0\n",
              "installment                   0\n",
              "grade                         0\n",
              "sub_grade                     0\n",
              "emp_length                    0\n",
              "home_ownership                0\n",
              "annual_inc                    0\n",
              "verification_status           0\n",
              "loan_status                   0\n",
              "addr_state                    0\n",
              "dti                           0\n",
              "delinq_2yrs                   0\n",
              "fico_range_low                0\n",
              "fico_range_high               0\n",
              "inq_last_6mths                0\n",
              "mths_since_last_delinq        0\n",
              "open_acc                      0\n",
              "pub_rec                       0\n",
              "revol_bal                     0\n",
              "revol_util                    0\n",
              "total_acc                     0\n",
              "collections_12_mths_ex_med    0\n",
              "acc_now_delinq                0\n",
              "chargeoff_within_12_mths      0\n",
              "delinq_amnt                   0\n",
              "pub_rec_bankruptcies          0\n",
              "tax_liens                     0\n",
              "year                          0\n",
              "return                        0\n",
              "dtype: int64"
            ],
            "text/html": [
              "<div>\n",
              "<style scoped>\n",
              "    .dataframe tbody tr th:only-of-type {\n",
              "        vertical-align: middle;\n",
              "    }\n",
              "\n",
              "    .dataframe tbody tr th {\n",
              "        vertical-align: top;\n",
              "    }\n",
              "\n",
              "    .dataframe thead th {\n",
              "        text-align: right;\n",
              "    }\n",
              "</style>\n",
              "<table border=\"1\" class=\"dataframe\">\n",
              "  <thead>\n",
              "    <tr style=\"text-align: right;\">\n",
              "      <th></th>\n",
              "      <th>0</th>\n",
              "    </tr>\n",
              "  </thead>\n",
              "  <tbody>\n",
              "    <tr>\n",
              "      <th>loan_amnt</th>\n",
              "      <td>0</td>\n",
              "    </tr>\n",
              "    <tr>\n",
              "      <th>funded_amnt</th>\n",
              "      <td>0</td>\n",
              "    </tr>\n",
              "    <tr>\n",
              "      <th>int_rate</th>\n",
              "      <td>0</td>\n",
              "    </tr>\n",
              "    <tr>\n",
              "      <th>installment</th>\n",
              "      <td>0</td>\n",
              "    </tr>\n",
              "    <tr>\n",
              "      <th>grade</th>\n",
              "      <td>0</td>\n",
              "    </tr>\n",
              "    <tr>\n",
              "      <th>sub_grade</th>\n",
              "      <td>0</td>\n",
              "    </tr>\n",
              "    <tr>\n",
              "      <th>emp_length</th>\n",
              "      <td>0</td>\n",
              "    </tr>\n",
              "    <tr>\n",
              "      <th>home_ownership</th>\n",
              "      <td>0</td>\n",
              "    </tr>\n",
              "    <tr>\n",
              "      <th>annual_inc</th>\n",
              "      <td>0</td>\n",
              "    </tr>\n",
              "    <tr>\n",
              "      <th>verification_status</th>\n",
              "      <td>0</td>\n",
              "    </tr>\n",
              "    <tr>\n",
              "      <th>loan_status</th>\n",
              "      <td>0</td>\n",
              "    </tr>\n",
              "    <tr>\n",
              "      <th>addr_state</th>\n",
              "      <td>0</td>\n",
              "    </tr>\n",
              "    <tr>\n",
              "      <th>dti</th>\n",
              "      <td>0</td>\n",
              "    </tr>\n",
              "    <tr>\n",
              "      <th>delinq_2yrs</th>\n",
              "      <td>0</td>\n",
              "    </tr>\n",
              "    <tr>\n",
              "      <th>fico_range_low</th>\n",
              "      <td>0</td>\n",
              "    </tr>\n",
              "    <tr>\n",
              "      <th>fico_range_high</th>\n",
              "      <td>0</td>\n",
              "    </tr>\n",
              "    <tr>\n",
              "      <th>inq_last_6mths</th>\n",
              "      <td>0</td>\n",
              "    </tr>\n",
              "    <tr>\n",
              "      <th>mths_since_last_delinq</th>\n",
              "      <td>0</td>\n",
              "    </tr>\n",
              "    <tr>\n",
              "      <th>open_acc</th>\n",
              "      <td>0</td>\n",
              "    </tr>\n",
              "    <tr>\n",
              "      <th>pub_rec</th>\n",
              "      <td>0</td>\n",
              "    </tr>\n",
              "    <tr>\n",
              "      <th>revol_bal</th>\n",
              "      <td>0</td>\n",
              "    </tr>\n",
              "    <tr>\n",
              "      <th>revol_util</th>\n",
              "      <td>0</td>\n",
              "    </tr>\n",
              "    <tr>\n",
              "      <th>total_acc</th>\n",
              "      <td>0</td>\n",
              "    </tr>\n",
              "    <tr>\n",
              "      <th>collections_12_mths_ex_med</th>\n",
              "      <td>0</td>\n",
              "    </tr>\n",
              "    <tr>\n",
              "      <th>acc_now_delinq</th>\n",
              "      <td>0</td>\n",
              "    </tr>\n",
              "    <tr>\n",
              "      <th>chargeoff_within_12_mths</th>\n",
              "      <td>0</td>\n",
              "    </tr>\n",
              "    <tr>\n",
              "      <th>delinq_amnt</th>\n",
              "      <td>0</td>\n",
              "    </tr>\n",
              "    <tr>\n",
              "      <th>pub_rec_bankruptcies</th>\n",
              "      <td>0</td>\n",
              "    </tr>\n",
              "    <tr>\n",
              "      <th>tax_liens</th>\n",
              "      <td>0</td>\n",
              "    </tr>\n",
              "    <tr>\n",
              "      <th>year</th>\n",
              "      <td>0</td>\n",
              "    </tr>\n",
              "    <tr>\n",
              "      <th>return</th>\n",
              "      <td>0</td>\n",
              "    </tr>\n",
              "  </tbody>\n",
              "</table>\n",
              "</div><br><label><b>dtype:</b> int64</label>"
            ]
          },
          "metadata": {},
          "execution_count": 20
        }
      ]
    },
    {
      "cell_type": "code",
      "source": [
        "test_data.isnull().sum()"
      ],
      "metadata": {
        "colab": {
          "base_uri": "https://localhost:8080/",
          "height": 993
        },
        "id": "s9BnFG6GcRAz",
        "outputId": "d7c4129b-a305-4379-9cd2-3d423dbe9deb"
      },
      "execution_count": 21,
      "outputs": [
        {
          "output_type": "execute_result",
          "data": {
            "text/plain": [
              "loan_amnt                         0\n",
              "funded_amnt                       0\n",
              "int_rate                          0\n",
              "installment                       0\n",
              "grade                             0\n",
              "sub_grade                         0\n",
              "emp_length                        0\n",
              "home_ownership                    0\n",
              "annual_inc                        0\n",
              "verification_status               0\n",
              "addr_state                        0\n",
              "dti                               0\n",
              "delinq_2yrs                       0\n",
              "fico_range_low                    0\n",
              "fico_range_high                   0\n",
              "inq_last_6mths                    0\n",
              "mths_since_last_delinq        54347\n",
              "open_acc                          0\n",
              "pub_rec                           0\n",
              "revol_bal                         0\n",
              "revol_util                        0\n",
              "total_acc                         0\n",
              "collections_12_mths_ex_med        0\n",
              "acc_now_delinq                    0\n",
              "chargeoff_within_12_mths          0\n",
              "delinq_amnt                       0\n",
              "pub_rec_bankruptcies              0\n",
              "tax_liens                         0\n",
              "year                              0\n",
              "dtype: int64"
            ],
            "text/html": [
              "<div>\n",
              "<style scoped>\n",
              "    .dataframe tbody tr th:only-of-type {\n",
              "        vertical-align: middle;\n",
              "    }\n",
              "\n",
              "    .dataframe tbody tr th {\n",
              "        vertical-align: top;\n",
              "    }\n",
              "\n",
              "    .dataframe thead th {\n",
              "        text-align: right;\n",
              "    }\n",
              "</style>\n",
              "<table border=\"1\" class=\"dataframe\">\n",
              "  <thead>\n",
              "    <tr style=\"text-align: right;\">\n",
              "      <th></th>\n",
              "      <th>0</th>\n",
              "    </tr>\n",
              "  </thead>\n",
              "  <tbody>\n",
              "    <tr>\n",
              "      <th>loan_amnt</th>\n",
              "      <td>0</td>\n",
              "    </tr>\n",
              "    <tr>\n",
              "      <th>funded_amnt</th>\n",
              "      <td>0</td>\n",
              "    </tr>\n",
              "    <tr>\n",
              "      <th>int_rate</th>\n",
              "      <td>0</td>\n",
              "    </tr>\n",
              "    <tr>\n",
              "      <th>installment</th>\n",
              "      <td>0</td>\n",
              "    </tr>\n",
              "    <tr>\n",
              "      <th>grade</th>\n",
              "      <td>0</td>\n",
              "    </tr>\n",
              "    <tr>\n",
              "      <th>sub_grade</th>\n",
              "      <td>0</td>\n",
              "    </tr>\n",
              "    <tr>\n",
              "      <th>emp_length</th>\n",
              "      <td>0</td>\n",
              "    </tr>\n",
              "    <tr>\n",
              "      <th>home_ownership</th>\n",
              "      <td>0</td>\n",
              "    </tr>\n",
              "    <tr>\n",
              "      <th>annual_inc</th>\n",
              "      <td>0</td>\n",
              "    </tr>\n",
              "    <tr>\n",
              "      <th>verification_status</th>\n",
              "      <td>0</td>\n",
              "    </tr>\n",
              "    <tr>\n",
              "      <th>addr_state</th>\n",
              "      <td>0</td>\n",
              "    </tr>\n",
              "    <tr>\n",
              "      <th>dti</th>\n",
              "      <td>0</td>\n",
              "    </tr>\n",
              "    <tr>\n",
              "      <th>delinq_2yrs</th>\n",
              "      <td>0</td>\n",
              "    </tr>\n",
              "    <tr>\n",
              "      <th>fico_range_low</th>\n",
              "      <td>0</td>\n",
              "    </tr>\n",
              "    <tr>\n",
              "      <th>fico_range_high</th>\n",
              "      <td>0</td>\n",
              "    </tr>\n",
              "    <tr>\n",
              "      <th>inq_last_6mths</th>\n",
              "      <td>0</td>\n",
              "    </tr>\n",
              "    <tr>\n",
              "      <th>mths_since_last_delinq</th>\n",
              "      <td>54347</td>\n",
              "    </tr>\n",
              "    <tr>\n",
              "      <th>open_acc</th>\n",
              "      <td>0</td>\n",
              "    </tr>\n",
              "    <tr>\n",
              "      <th>pub_rec</th>\n",
              "      <td>0</td>\n",
              "    </tr>\n",
              "    <tr>\n",
              "      <th>revol_bal</th>\n",
              "      <td>0</td>\n",
              "    </tr>\n",
              "    <tr>\n",
              "      <th>revol_util</th>\n",
              "      <td>0</td>\n",
              "    </tr>\n",
              "    <tr>\n",
              "      <th>total_acc</th>\n",
              "      <td>0</td>\n",
              "    </tr>\n",
              "    <tr>\n",
              "      <th>collections_12_mths_ex_med</th>\n",
              "      <td>0</td>\n",
              "    </tr>\n",
              "    <tr>\n",
              "      <th>acc_now_delinq</th>\n",
              "      <td>0</td>\n",
              "    </tr>\n",
              "    <tr>\n",
              "      <th>chargeoff_within_12_mths</th>\n",
              "      <td>0</td>\n",
              "    </tr>\n",
              "    <tr>\n",
              "      <th>delinq_amnt</th>\n",
              "      <td>0</td>\n",
              "    </tr>\n",
              "    <tr>\n",
              "      <th>pub_rec_bankruptcies</th>\n",
              "      <td>0</td>\n",
              "    </tr>\n",
              "    <tr>\n",
              "      <th>tax_liens</th>\n",
              "      <td>0</td>\n",
              "    </tr>\n",
              "    <tr>\n",
              "      <th>year</th>\n",
              "      <td>0</td>\n",
              "    </tr>\n",
              "  </tbody>\n",
              "</table>\n",
              "</div><br><label><b>dtype:</b> int64</label>"
            ]
          },
          "metadata": {},
          "execution_count": 21
        }
      ]
    },
    {
      "cell_type": "code",
      "source": [
        "# # Drop the 'mths_since_last_delinq' column since missing ~50% for test file\n",
        "# test_data = test_data.drop('mths_since_last_delinq', axis=1)"
      ],
      "metadata": {
        "id": "nAE-2lTw03Fa"
      },
      "execution_count": 22,
      "outputs": []
    },
    {
      "cell_type": "code",
      "source": [
        "\n",
        "# If 'loan_status' is categorical (e.g., \"Fully Paid\", \"Charged Off\"):\n",
        "loan_status_counts = data['loan_status'].value_counts().nlargest(10) # Get top 10\n",
        "loan_status_counts\n"
      ],
      "metadata": {
        "colab": {
          "base_uri": "https://localhost:8080/",
          "height": 178
        },
        "id": "kq-bzCK963Ib",
        "outputId": "5a6987aa-bcf2-4eea-a2d1-864d419a3c83"
      },
      "execution_count": 23,
      "outputs": [
        {
          "output_type": "execute_result",
          "data": {
            "text/plain": [
              "loan_status\n",
              "0    797918\n",
              "1    135242\n",
              "Name: count, dtype: int64"
            ],
            "text/html": [
              "<div>\n",
              "<style scoped>\n",
              "    .dataframe tbody tr th:only-of-type {\n",
              "        vertical-align: middle;\n",
              "    }\n",
              "\n",
              "    .dataframe tbody tr th {\n",
              "        vertical-align: top;\n",
              "    }\n",
              "\n",
              "    .dataframe thead th {\n",
              "        text-align: right;\n",
              "    }\n",
              "</style>\n",
              "<table border=\"1\" class=\"dataframe\">\n",
              "  <thead>\n",
              "    <tr style=\"text-align: right;\">\n",
              "      <th></th>\n",
              "      <th>count</th>\n",
              "    </tr>\n",
              "    <tr>\n",
              "      <th>loan_status</th>\n",
              "      <th></th>\n",
              "    </tr>\n",
              "  </thead>\n",
              "  <tbody>\n",
              "    <tr>\n",
              "      <th>0</th>\n",
              "      <td>797918</td>\n",
              "    </tr>\n",
              "    <tr>\n",
              "      <th>1</th>\n",
              "      <td>135242</td>\n",
              "    </tr>\n",
              "  </tbody>\n",
              "</table>\n",
              "</div><br><label><b>dtype:</b> int64</label>"
            ]
          },
          "metadata": {},
          "execution_count": 23
        }
      ]
    },
    {
      "cell_type": "code",
      "source": [
        "data['emp_length'].isnull().sum() #imp length checking nun values\n"
      ],
      "metadata": {
        "colab": {
          "base_uri": "https://localhost:8080/"
        },
        "id": "Q6XwtsVBz5nN",
        "outputId": "b4376cf6-a56a-4c34-a436-4aa65437ad3b"
      },
      "execution_count": 24,
      "outputs": [
        {
          "output_type": "execute_result",
          "data": {
            "text/plain": [
              "np.int64(0)"
            ]
          },
          "metadata": {},
          "execution_count": 24
        }
      ]
    },
    {
      "cell_type": "code",
      "source": [
        "# Interaction between emp_length and annual_inc\n",
        "data['fico_avg'] = (data['fico_range_low'] + data['fico_range_high']) / 2\n",
        "# data.drop(colummns=['emp_length', 'annual_inc'], inplace=True)\n",
        "\n",
        "# # Nonlinear term: loan_amnt squared\n",
        "# data['loan_amnt_squared'] = data['loan_amnt'] ** 2\n",
        "# # data.drop(columns=['loan_amnt'], inplace=True)\n",
        "\n",
        "# Nonlinear term: loan_amnt squared\n",
        "# Convert 'loan_amnt' to numeric before applying the power operation\n",
        "data['loan_amnt'] = pd.to_numeric(data['loan_amnt'], errors='coerce')  # Handle potential errors\n",
        "data['loan_amnt_squared'] = data['loan_amnt'] ** 2\n",
        "# data.drop(columns=['loan_amnt'], inplace=True)\n"
      ],
      "metadata": {
        "id": "g7OFr7ywTSmb"
      },
      "execution_count": 25,
      "outputs": []
    },
    {
      "cell_type": "markdown",
      "source": [
        "# Feature engineering"
      ],
      "metadata": {
        "id": "zC6Mi5eOgQrv"
      }
    },
    {
      "cell_type": "code",
      "source": [
        "from sklearn.preprocessing import LabelEncoder\n",
        "\n",
        "# Label encoding for ordinal variables\n",
        "label_encoder = LabelEncoder()\n",
        "data['grade'] = label_encoder.fit_transform(data['grade'])\n",
        "data['sub_grade'] = label_encoder.fit_transform(data['sub_grade'])\n",
        "data['emp_length'] = label_encoder.fit_transform(data['emp_length'])\n",
        "\n",
        "\n",
        "# One-hot encoding for categorical variables\n",
        "for col in ['home_ownership', 'verification_status','addr_state','loan_status']:\n",
        "    data[col] = label_encoder.fit_transform(data[col])"
      ],
      "metadata": {
        "id": "4AAghY8XVhVJ"
      },
      "execution_count": 26,
      "outputs": []
    },
    {
      "cell_type": "code",
      "source": [
        "from sklearn.preprocessing import StandardScaler\n",
        "\n",
        "# List of numerical features\n",
        "numerical_features = [\n",
        "    'loan_amnt', 'funded_amnt', 'int_rate', 'installment', 'annual_inc', 'dti',\n",
        "    'delinq_2yrs', 'inq_last_6mths', 'open_acc','mths_since_last_delinq',\n",
        "    'pub_rec', 'revol_bal', 'revol_util', 'total_acc', 'collections_12_mths_ex_med',\n",
        "    'acc_now_delinq', 'chargeoff_within_12_mths', 'delinq_amnt', 'pub_rec_bankruptcies',\n",
        "    'tax_liens', 'fico_range_low', 'fico_range_high',\n",
        "]\n",
        "\n",
        "# Standardize numerical features\n",
        "scaler = StandardScaler()\n",
        "data[numerical_features] = scaler.fit_transform(data[numerical_features])"
      ],
      "metadata": {
        "id": "O5ofCbMxS_KS"
      },
      "execution_count": 27,
      "outputs": []
    },
    {
      "cell_type": "code",
      "source": [
        "data.columns\n",
        "data.shape"
      ],
      "metadata": {
        "colab": {
          "base_uri": "https://localhost:8080/"
        },
        "id": "1lToqpInoAG4",
        "outputId": "66c2c08d-b835-4de1-d0f7-10272f503478"
      },
      "execution_count": 28,
      "outputs": [
        {
          "output_type": "execute_result",
          "data": {
            "text/plain": [
              "(933160, 33)"
            ]
          },
          "metadata": {},
          "execution_count": 28
        }
      ]
    },
    {
      "cell_type": "markdown",
      "source": [
        "# ENCODING FOR TEST DATA"
      ],
      "metadata": {
        "id": "jg-31tvnpdQE"
      }
    },
    {
      "cell_type": "code",
      "source": [
        "from sklearn.preprocessing import LabelEncoder\n",
        "\n",
        "# Label encoding for ordinal variables\n",
        "label_encoder = LabelEncoder()\n",
        "test_data['grade'] = label_encoder.fit_transform(test_data['grade'])\n",
        "test_data['sub_grade'] = label_encoder.fit_transform(test_data['sub_grade'])\n",
        "test_data['emp_length'] = label_encoder.fit_transform(test_data['emp_length'])\n",
        "\n",
        "# One-hot encoding for categorical variables\n",
        "for col in ['home_ownership', 'verification_status','addr_state']:\n",
        "    test_data[col] = label_encoder.fit_transform(test_data[col])"
      ],
      "metadata": {
        "id": "bCikXoYHYZPz"
      },
      "execution_count": 29,
      "outputs": []
    },
    {
      "cell_type": "code",
      "source": [
        "from sklearn.preprocessing import StandardScaler\n",
        "\n",
        "# List of numerical features\n",
        "numerical_features = [\n",
        "    'loan_amnt', 'funded_amnt', 'int_rate', 'installment', 'annual_inc', 'dti',\n",
        "    'delinq_2yrs', 'inq_last_6mths', 'open_acc','mths_since_last_delinq',\n",
        "    'pub_rec', 'revol_bal', 'revol_util', 'total_acc', 'collections_12_mths_ex_med',\n",
        "    'acc_now_delinq', 'chargeoff_within_12_mths', 'delinq_amnt', 'pub_rec_bankruptcies',\n",
        "    'tax_liens', 'fico_range_low', 'fico_range_high',\n",
        "]\n",
        "\n",
        "# Standardize numerical features\n",
        "scaler = StandardScaler()\n",
        "test_data[numerical_features] = scaler.fit_transform(test_data[numerical_features])"
      ],
      "metadata": {
        "id": "aNx6gybIYf-K"
      },
      "execution_count": 30,
      "outputs": []
    },
    {
      "cell_type": "code",
      "source": [
        "test_data.columns"
      ],
      "metadata": {
        "colab": {
          "base_uri": "https://localhost:8080/"
        },
        "id": "oXrJyXwQV-52",
        "outputId": "158cfb3b-3661-447e-e834-592e20ef58a9"
      },
      "execution_count": 31,
      "outputs": [
        {
          "output_type": "execute_result",
          "data": {
            "text/plain": [
              "Index(['loan_amnt', 'funded_amnt', 'int_rate', 'installment', 'grade',\n",
              "       'sub_grade', 'emp_length', 'home_ownership', 'annual_inc',\n",
              "       'verification_status', 'addr_state', 'dti', 'delinq_2yrs',\n",
              "       'fico_range_low', 'fico_range_high', 'inq_last_6mths',\n",
              "       'mths_since_last_delinq', 'open_acc', 'pub_rec', 'revol_bal',\n",
              "       'revol_util', 'total_acc', 'collections_12_mths_ex_med',\n",
              "       'acc_now_delinq', 'chargeoff_within_12_mths', 'delinq_amnt',\n",
              "       'pub_rec_bankruptcies', 'tax_liens', 'year'],\n",
              "      dtype='object')"
            ]
          },
          "metadata": {},
          "execution_count": 31
        }
      ]
    },
    {
      "cell_type": "code",
      "source": [
        "test_data.isnull().sum()"
      ],
      "metadata": {
        "colab": {
          "base_uri": "https://localhost:8080/",
          "height": 993
        },
        "id": "2BEsSo5NZP0o",
        "outputId": "f3675a8a-d6a8-4dea-c068-2135503bbf7e",
        "collapsed": true
      },
      "execution_count": 32,
      "outputs": [
        {
          "output_type": "execute_result",
          "data": {
            "text/plain": [
              "loan_amnt                         0\n",
              "funded_amnt                       0\n",
              "int_rate                          0\n",
              "installment                       0\n",
              "grade                             0\n",
              "sub_grade                         0\n",
              "emp_length                        0\n",
              "home_ownership                    0\n",
              "annual_inc                        0\n",
              "verification_status               0\n",
              "addr_state                        0\n",
              "dti                               0\n",
              "delinq_2yrs                       0\n",
              "fico_range_low                    0\n",
              "fico_range_high                   0\n",
              "inq_last_6mths                    0\n",
              "mths_since_last_delinq        54347\n",
              "open_acc                          0\n",
              "pub_rec                           0\n",
              "revol_bal                         0\n",
              "revol_util                        0\n",
              "total_acc                         0\n",
              "collections_12_mths_ex_med        0\n",
              "acc_now_delinq                    0\n",
              "chargeoff_within_12_mths          0\n",
              "delinq_amnt                       0\n",
              "pub_rec_bankruptcies              0\n",
              "tax_liens                         0\n",
              "year                              0\n",
              "dtype: int64"
            ],
            "text/html": [
              "<div>\n",
              "<style scoped>\n",
              "    .dataframe tbody tr th:only-of-type {\n",
              "        vertical-align: middle;\n",
              "    }\n",
              "\n",
              "    .dataframe tbody tr th {\n",
              "        vertical-align: top;\n",
              "    }\n",
              "\n",
              "    .dataframe thead th {\n",
              "        text-align: right;\n",
              "    }\n",
              "</style>\n",
              "<table border=\"1\" class=\"dataframe\">\n",
              "  <thead>\n",
              "    <tr style=\"text-align: right;\">\n",
              "      <th></th>\n",
              "      <th>0</th>\n",
              "    </tr>\n",
              "  </thead>\n",
              "  <tbody>\n",
              "    <tr>\n",
              "      <th>loan_amnt</th>\n",
              "      <td>0</td>\n",
              "    </tr>\n",
              "    <tr>\n",
              "      <th>funded_amnt</th>\n",
              "      <td>0</td>\n",
              "    </tr>\n",
              "    <tr>\n",
              "      <th>int_rate</th>\n",
              "      <td>0</td>\n",
              "    </tr>\n",
              "    <tr>\n",
              "      <th>installment</th>\n",
              "      <td>0</td>\n",
              "    </tr>\n",
              "    <tr>\n",
              "      <th>grade</th>\n",
              "      <td>0</td>\n",
              "    </tr>\n",
              "    <tr>\n",
              "      <th>sub_grade</th>\n",
              "      <td>0</td>\n",
              "    </tr>\n",
              "    <tr>\n",
              "      <th>emp_length</th>\n",
              "      <td>0</td>\n",
              "    </tr>\n",
              "    <tr>\n",
              "      <th>home_ownership</th>\n",
              "      <td>0</td>\n",
              "    </tr>\n",
              "    <tr>\n",
              "      <th>annual_inc</th>\n",
              "      <td>0</td>\n",
              "    </tr>\n",
              "    <tr>\n",
              "      <th>verification_status</th>\n",
              "      <td>0</td>\n",
              "    </tr>\n",
              "    <tr>\n",
              "      <th>addr_state</th>\n",
              "      <td>0</td>\n",
              "    </tr>\n",
              "    <tr>\n",
              "      <th>dti</th>\n",
              "      <td>0</td>\n",
              "    </tr>\n",
              "    <tr>\n",
              "      <th>delinq_2yrs</th>\n",
              "      <td>0</td>\n",
              "    </tr>\n",
              "    <tr>\n",
              "      <th>fico_range_low</th>\n",
              "      <td>0</td>\n",
              "    </tr>\n",
              "    <tr>\n",
              "      <th>fico_range_high</th>\n",
              "      <td>0</td>\n",
              "    </tr>\n",
              "    <tr>\n",
              "      <th>inq_last_6mths</th>\n",
              "      <td>0</td>\n",
              "    </tr>\n",
              "    <tr>\n",
              "      <th>mths_since_last_delinq</th>\n",
              "      <td>54347</td>\n",
              "    </tr>\n",
              "    <tr>\n",
              "      <th>open_acc</th>\n",
              "      <td>0</td>\n",
              "    </tr>\n",
              "    <tr>\n",
              "      <th>pub_rec</th>\n",
              "      <td>0</td>\n",
              "    </tr>\n",
              "    <tr>\n",
              "      <th>revol_bal</th>\n",
              "      <td>0</td>\n",
              "    </tr>\n",
              "    <tr>\n",
              "      <th>revol_util</th>\n",
              "      <td>0</td>\n",
              "    </tr>\n",
              "    <tr>\n",
              "      <th>total_acc</th>\n",
              "      <td>0</td>\n",
              "    </tr>\n",
              "    <tr>\n",
              "      <th>collections_12_mths_ex_med</th>\n",
              "      <td>0</td>\n",
              "    </tr>\n",
              "    <tr>\n",
              "      <th>acc_now_delinq</th>\n",
              "      <td>0</td>\n",
              "    </tr>\n",
              "    <tr>\n",
              "      <th>chargeoff_within_12_mths</th>\n",
              "      <td>0</td>\n",
              "    </tr>\n",
              "    <tr>\n",
              "      <th>delinq_amnt</th>\n",
              "      <td>0</td>\n",
              "    </tr>\n",
              "    <tr>\n",
              "      <th>pub_rec_bankruptcies</th>\n",
              "      <td>0</td>\n",
              "    </tr>\n",
              "    <tr>\n",
              "      <th>tax_liens</th>\n",
              "      <td>0</td>\n",
              "    </tr>\n",
              "    <tr>\n",
              "      <th>year</th>\n",
              "      <td>0</td>\n",
              "    </tr>\n",
              "  </tbody>\n",
              "</table>\n",
              "</div><br><label><b>dtype:</b> int64</label>"
            ]
          },
          "metadata": {},
          "execution_count": 32
        }
      ]
    },
    {
      "cell_type": "code",
      "source": [
        "# prompt: write a code to check the high correlating veriables with respect to reutrn\n",
        "\n",
        "# Calculate the correlation matrix\n",
        "correlation_matrix = data.corr()\n",
        "\n",
        "# Get the correlation with 'return'\n",
        "correlation_with_return = correlation_matrix['return'].drop('return')  # Exclude self-correlation\n",
        "\n",
        "# Sort by absolute correlation magnitude\n",
        "sorted_correlation = correlation_with_return.abs().sort_values(ascending=False)\n",
        "\n",
        "# Print or visualize the highly correlated variables\n",
        "print(\"Variables highly correlated with 'return':\")\n",
        "print(sorted_correlation)\n",
        "\n",
        "# You can set a threshold to filter highly correlated variables\n",
        "threshold = 0.1  # Example threshold\n",
        "highly_correlated_variables = sorted_correlation[sorted_correlation > threshold]\n",
        "print(f\"\\nVariables with correlation above {threshold}:\")\n",
        "highly_correlated_variables\n"
      ],
      "metadata": {
        "colab": {
          "base_uri": "https://localhost:8080/",
          "height": 780
        },
        "id": "U83mel2TbiFH",
        "outputId": "320cf2d4-f236-4962-afba-84958d63bdbb"
      },
      "execution_count": 33,
      "outputs": [
        {
          "output_type": "stream",
          "name": "stdout",
          "text": [
            "Variables highly correlated with 'return':\n",
            "loan_status                   0.849922\n",
            "year                          0.063327\n",
            "dti                           0.039181\n",
            "revol_util                    0.036785\n",
            "inq_last_6mths                0.034340\n",
            "home_ownership                0.030214\n",
            "open_acc                      0.025659\n",
            "verification_status           0.024495\n",
            "grade                         0.023567\n",
            "total_acc                     0.023374\n",
            "sub_grade                     0.022923\n",
            "pub_rec_bankruptcies          0.019274\n",
            "revol_bal                     0.014911\n",
            "emp_length                    0.014714\n",
            "installment                   0.012515\n",
            "int_rate                      0.012197\n",
            "annual_inc                    0.011985\n",
            "pub_rec                       0.011049\n",
            "loan_amnt                     0.009713\n",
            "funded_amnt                   0.009710\n",
            "addr_state                    0.008324\n",
            "fico_range_low                0.007711\n",
            "fico_avg                      0.007711\n",
            "fico_range_high               0.007711\n",
            "collections_12_mths_ex_med    0.007481\n",
            "loan_amnt_squared             0.004695\n",
            "delinq_amnt                   0.003181\n",
            "mths_since_last_delinq        0.002298\n",
            "chargeoff_within_12_mths      0.001618\n",
            "acc_now_delinq                0.001167\n",
            "delinq_2yrs                   0.000789\n",
            "tax_liens                     0.000757\n",
            "Name: return, dtype: float64\n",
            "\n",
            "Variables with correlation above 0.1:\n"
          ]
        },
        {
          "output_type": "execute_result",
          "data": {
            "text/plain": [
              "loan_status    0.849922\n",
              "Name: return, dtype: float64"
            ],
            "text/html": [
              "<div>\n",
              "<style scoped>\n",
              "    .dataframe tbody tr th:only-of-type {\n",
              "        vertical-align: middle;\n",
              "    }\n",
              "\n",
              "    .dataframe tbody tr th {\n",
              "        vertical-align: top;\n",
              "    }\n",
              "\n",
              "    .dataframe thead th {\n",
              "        text-align: right;\n",
              "    }\n",
              "</style>\n",
              "<table border=\"1\" class=\"dataframe\">\n",
              "  <thead>\n",
              "    <tr style=\"text-align: right;\">\n",
              "      <th></th>\n",
              "      <th>return</th>\n",
              "    </tr>\n",
              "  </thead>\n",
              "  <tbody>\n",
              "    <tr>\n",
              "      <th>loan_status</th>\n",
              "      <td>0.849922</td>\n",
              "    </tr>\n",
              "  </tbody>\n",
              "</table>\n",
              "</div><br><label><b>dtype:</b> float64</label>"
            ]
          },
          "metadata": {},
          "execution_count": 33
        }
      ]
    },
    {
      "cell_type": "markdown",
      "source": [
        "# Linear regression model\n",
        "\n",
        "1.   Data: Train and validation\n",
        "2.   test_data : testing\n",
        "\n"
      ],
      "metadata": {
        "id": "URAKcfAOgh8n"
      }
    },
    {
      "cell_type": "code",
      "source": [
        "# prompt: expanding-window regularly\n",
        "# updating training and validation sets. You need to justify why you chose either approach.\n",
        "\n",
        "\n",
        "\n",
        "import pandas as pd\n",
        "from sklearn.model_selection import train_test_split\n",
        "# ... (your existing code) ...\n",
        "\n",
        "\n",
        "# Function to create training and validation sets with an expanding window\n",
        "def expanding_window_split(data, train_size):\n",
        "    data_size = len(data)\n",
        "    train_index = int(train_size * data_size)\n",
        "\n",
        "    y = data['return']\n",
        "    X = data.drop(['return', 'loan_status'], axis=1)  # Features\n",
        "    # y = data[['return',]]  # Target variable\n",
        "\n",
        "    X_train = X.iloc[:train_index]\n",
        "    X_val = X.iloc[train_index:]\n",
        "    y_train = y.iloc[:train_index]\n",
        "    y_val = y.iloc[train_index:]\n",
        "\n",
        "    return X_train, X_val, y_train, y_val\n",
        "\n",
        "# Example usage:\n",
        "train_size_ratio = 0.8 #Example\n",
        "X_train, X_val, y_train, y_val = expanding_window_split(data, train_size_ratio)\n",
        "\n",
        "print(f\"Training data shape: {X_train.shape}\")\n",
        "print(f\"Validation data shape: {X_val.shape}\")\n"
      ],
      "metadata": {
        "colab": {
          "base_uri": "https://localhost:8080/"
        },
        "id": "-S6CMcWaZudh",
        "outputId": "a1f1c025-0964-45f4-fa61-31634cc5dcc7"
      },
      "execution_count": 34,
      "outputs": [
        {
          "output_type": "stream",
          "name": "stdout",
          "text": [
            "Training data shape: (746528, 31)\n",
            "Validation data shape: (186632, 31)\n"
          ]
        }
      ]
    },
    {
      "cell_type": "code",
      "source": [
        "# prompt: run simple regression model\n",
        "\n",
        "from sklearn.linear_model import LinearRegression\n",
        "from sklearn.metrics import mean_squared_error, r2_score\n",
        "# Ensure X_train_return is properly initialized\n",
        "X_train_return, y_train_return = X_train.copy(), y_train\n",
        "X_val_return, y_val_return = X_val.copy(), y_val\n",
        "\n",
        "\n",
        "# Initialize the linear regression model\n",
        "lr_model = LinearRegression()\n",
        "\n",
        "# Train the model on the training data\n",
        "lr_model.fit(X_train, y_train)\n",
        "\n",
        "# Make predictions on the validation data\n",
        "y_pred = lr_model.predict(X_val)\n",
        "\n",
        "# Evaluate the model\n",
        "mse = mean_squared_error(y_val, y_pred)\n",
        "r2 = r2_score(y_val, y_pred)\n",
        "\n",
        "# Make predictions on the training data\n",
        "y_pred_train = lr_model.predict(X_train)\n",
        "\n",
        "# Calculate the R-squared for the training data\n",
        "r2_train = r2_score(y_train, y_pred_train)\n",
        "print(f\"Mean Squared Error: {mse}\")\n",
        "print(f\"R-squared: {r2}\")\n",
        "print(f\"In-sample R-squared: {r2_train}\")\n",
        "print(f\"Out-of-sample R-squared: {r2}\")\n"
      ],
      "metadata": {
        "colab": {
          "base_uri": "https://localhost:8080/"
        },
        "id": "2pKkEuBFVpao",
        "outputId": "a88e54ba-cc47-4630-cb55-f0b47fbc719c"
      },
      "execution_count": 35,
      "outputs": [
        {
          "output_type": "stream",
          "name": "stdout",
          "text": [
            "Mean Squared Error: 0.06910539884495703\n",
            "R-squared: 0.0053510546289327054\n",
            "In-sample R-squared: 0.012896803865904194\n",
            "Out-of-sample R-squared: 0.0053510546289327054\n"
          ]
        }
      ]
    },
    {
      "cell_type": "code",
      "source": [
        "# test_data = pd.read_csv('lc_loan_test.csv')\n",
        "# Display first few rows\n",
        "print(\"Test Dataset Shape:\", test_data.shape)\n",
        "\n",
        "test_data['fico_avg'] = (test_data['fico_range_low'] + test_data['fico_range_high']) / 2\n",
        "\n",
        "# Nonlinear term: loan_amnt squared\n",
        "test_data['loan_amnt_squared'] = test_data['loan_amnt'] ** 2\n",
        "# data.drop(columns=['loan_amnt'], inplace=True)\n",
        "\n",
        "\n",
        "# test_data = test_data[X_train.columns]"
      ],
      "metadata": {
        "colab": {
          "base_uri": "https://localhost:8080/"
        },
        "id": "I9qOqzHeMmPk",
        "outputId": "65222202-6286-4f1b-adab-d77b8f6e3b4f"
      },
      "execution_count": 36,
      "outputs": [
        {
          "output_type": "stream",
          "name": "stdout",
          "text": [
            "Test Dataset Shape: (112858, 29)\n"
          ]
        }
      ]
    },
    {
      "cell_type": "markdown",
      "source": [
        "# Logistic Regression"
      ],
      "metadata": {
        "id": "A-q6NCtNVoXL"
      }
    },
    {
      "cell_type": "code",
      "source": [
        "\n",
        "\n",
        "import pandas as pd\n",
        "from sklearn.model_selection import train_test_split\n",
        "\n",
        "# Function to create training and validation sets with an expanding window\n",
        "def expanding_window_split(data, train_size):\n",
        "    data_size = len(data)\n",
        "    train_index = int(train_size * data_size)\n",
        "\n",
        "    y_l= data[['return']]  # Target variable\n",
        "    X_l= data.drop(['return', 'loan_status'], axis=1)  # Features\n",
        "    # y_l = data['loan_status'].apply(lambda x: 1 if x == \"Charged Off\" else 0)  # Binary classification\n",
        "    # test_size=0.2,  # Adjust as needed\n",
        "    # random_state=42,\n",
        "\n",
        "    X_l_train = X_l.iloc[:train_index]\n",
        "    X_l_val = X_l.iloc[train_index:]\n",
        "    y_l_train = y_l.iloc[:train_index]\n",
        "    y_l_val = y_l.iloc[train_index:]\n",
        "\n",
        "    return X_l_train, X_l_val, y_l_train, y_l_val\n",
        "\n",
        "# Example usage:\n",
        "train_size_ratio = 0.8 #Example\n",
        "X_l_train, X_l_val, y_l_train, y_l_val = expanding_window_split(data, train_size_ratio)\n",
        "\n",
        "print(f\"Training data shape: {X_l_train.shape}\")\n",
        "print(f\"Validation data shape: {X_l_val.shape}\")\n"
      ],
      "metadata": {
        "colab": {
          "base_uri": "https://localhost:8080/"
        },
        "id": "sMjCE1u2oxQ4",
        "outputId": "96f9de3d-a40e-4d40-f545-6776df80059a"
      },
      "execution_count": 37,
      "outputs": [
        {
          "output_type": "stream",
          "name": "stdout",
          "text": [
            "Training data shape: (746528, 31)\n",
            "Validation data shape: (186632, 31)\n"
          ]
        }
      ]
    },
    {
      "cell_type": "code",
      "source": [
        "from imblearn.over_sampling import SMOTE\n",
        "\n",
        "# Apply SMOTE to balance the dataset\n",
        "smote = SMOTE(random_state=42)\n",
        "X_l_train_resampled, y_l_train_resampled = smote.fit_resample(X_l_train, data['loan_status'][:len(X_l_train)])\n",
        "# X_l_val_resampled, y_l_val_resampled = smote.fit_resample(X_l_val, y_l_val)\n",
        "\n",
        "print(\"Class distribution after SMOTE:\")\n",
        "# print(pd.Series(y_l_train_resampled).value_counts())  # Check balanced class distribution\n",
        "print(pd.Series(y_l_train_resampled).value_counts())  # Check balanced class distribution"
      ],
      "metadata": {
        "colab": {
          "base_uri": "https://localhost:8080/"
        },
        "id": "h9KAyKPr73Rv",
        "outputId": "52e0cfe7-929f-4f3f-a4f9-c5c8019e46fa"
      },
      "execution_count": 38,
      "outputs": [
        {
          "output_type": "stream",
          "name": "stdout",
          "text": [
            "Class distribution after SMOTE:\n",
            "loan_status\n",
            "0    641014\n",
            "1    641014\n",
            "Name: count, dtype: int64\n"
          ]
        }
      ]
    },
    {
      "cell_type": "code",
      "source": [
        "# prompt: Fit a logistic regression model to predict loan status (i.e., loan_status).\n",
        "\n",
        "from sklearn.linear_model import LogisticRegression\n",
        "\n",
        "# Initialize the logistic regression model\n",
        "logreg_model = LogisticRegression(max_iter=1000)  # Increased max_iter for convergence\n",
        "\n",
        "# Train the model\n",
        "# logreg_model.fit(X_l_train, y_l_train.values.ravel()) # .values.ravel() to handle potential shape issues\n",
        "\n",
        "logreg_model.fit(X_l_train_resampled, y_l_train_resampled.values.ravel())  # ✅ Correct dataset used\n",
        "\n",
        "y_l_pred_logreg = logreg_model.predict(X_l_val)\n",
        "\n",
        "# Make predictions on the validation set\n",
        "y_l_val_binary = (y_l_val['return'] > threshold).astype(int)\n",
        "\n",
        "# Evaluate the model (example using accuracy; choose appropriate metrics)\n",
        "from sklearn.metrics import accuracy_score\n",
        "accuracy = accuracy_score(y_l_val_binary, y_l_pred_logreg)\n",
        "print(f\"Logistic Regression Accuracy: {accuracy}\")\n",
        "\n",
        "from sklearn.metrics import f1_score, roc_auc_score, confusion_matrix\n",
        "\n",
        "f1 = f1_score(y_l_val_binary, y_l_pred_logreg)  # F1 Score (better for imbalanced classes)\n",
        "auc = roc_auc_score(y_l_val_binary, logreg_model.predict_proba(X_l_val)[:, 1])  # AUC-ROC Score\n",
        "# conf_matrix = confusion_matrix(y_l_val, y_l_pred_logreg)  # Confusion Matrix\n",
        "\n",
        "print(f\"F1 Score: {f1:.4f}\")\n",
        "print(f\"AUC-ROC Score: {auc:.4f}\")\n",
        "# print(\"Confusion Matrix:\\n\", conf_matrix)\n",
        "print(y_l_val[:10])\n",
        "print(y_l_pred_logreg[:10])\n"
      ],
      "metadata": {
        "id": "Vw1GYy61m7Op",
        "colab": {
          "base_uri": "https://localhost:8080/"
        },
        "outputId": "aba30e6a-0ed0-47e9-d9d5-fbae057c84f9"
      },
      "execution_count": 39,
      "outputs": [
        {
          "output_type": "stream",
          "name": "stdout",
          "text": [
            "Logistic Regression Accuracy: 0.37849886407475675\n",
            "F1 Score: 0.0000\n",
            "AUC-ROC Score: 0.5182\n",
            "          return\n",
            "746528  0.118218\n",
            "746529  0.101651\n",
            "746530  0.135199\n",
            "746531  0.110369\n",
            "746532  0.117184\n",
            "746533  0.102477\n",
            "746534  0.100649\n",
            "746535  0.124091\n",
            "746536  0.069268\n",
            "746537  0.121025\n",
            "[0 0 0 0 0 0 0 0 0 0]\n"
          ]
        }
      ]
    },
    {
      "cell_type": "code",
      "source": [
        "import numpy as np\n",
        "from sklearn.metrics import f1_score, roc_auc_score\n",
        "\n",
        "# Get predicted probabilities instead of fixed predictions\n",
        "y_l_prob = logreg_model.predict_proba(X_l_val)[:, 1]\n",
        "\n",
        "# Test different thresholds\n",
        "thresholds = np.linspace(0.3, 0.7, num=10)\n",
        "best_threshold = 0.5\n",
        "best_f1 = 0\n",
        "\n",
        "for threshold in thresholds:\n",
        "    y_l_pred_threshold = (y_l_prob >= threshold).astype(int)\n",
        "    f1 = f1_score(y_l_val_binary, y_l_pred_threshold)\n",
        "\n",
        "    print(f\"Threshold: {threshold:.2f}, F1 Score: {f1:.4f}\")\n",
        "\n",
        "    # Select the best threshold\n",
        "    if f1 > best_f1:\n",
        "        best_f1 = f1\n",
        "        best_threshold = threshold\n",
        "\n",
        "print(f\"Best Decision Threshold: {best_threshold:.2f}\")\n"
      ],
      "metadata": {
        "id": "c7steNd3Jz3m",
        "colab": {
          "base_uri": "https://localhost:8080/"
        },
        "outputId": "098962b0-c4d7-416c-a858-578e0eb05294"
      },
      "execution_count": 40,
      "outputs": [
        {
          "output_type": "stream",
          "name": "stdout",
          "text": [
            "Threshold: 0.30, F1 Score: 0.7666\n",
            "Threshold: 0.34, F1 Score: 0.7666\n",
            "Threshold: 0.39, F1 Score: 0.7666\n",
            "Threshold: 0.43, F1 Score: 0.7666\n",
            "Threshold: 0.48, F1 Score: 0.7637\n",
            "Threshold: 0.52, F1 Score: 0.0000\n",
            "Threshold: 0.57, F1 Score: 0.0000\n",
            "Threshold: 0.61, F1 Score: 0.0000\n",
            "Threshold: 0.66, F1 Score: 0.0000\n",
            "Threshold: 0.70, F1 Score: 0.0000\n",
            "Best Decision Threshold: 0.30\n"
          ]
        }
      ]
    },
    {
      "cell_type": "code",
      "source": [
        "from sklearn.metrics import accuracy_score, f1_score, roc_auc_score, confusion_matrix\n",
        "\n",
        "# Apply best threshold for classification\n",
        "y_l_pred_best = (y_l_prob >= best_threshold).astype(int)\n",
        "\n",
        "# Compute evaluation metrics\n",
        "accuracy = accuracy_score(y_l_val_binary, y_l_pred_best)\n",
        "f1 = f1_score(y_l_val_binary, y_l_pred_best)\n",
        "auc = roc_auc_score(y_l_val_binary, y_l_prob)\n",
        "conf_matrix = confusion_matrix(y_l_val_binary, y_l_pred_best)\n",
        "\n",
        "# Print results\n",
        "print(f\"Logistic Regression - Adjusted Threshold: {best_threshold:.2f}\")\n",
        "print(f\"Accuracy: {accuracy:.4f}\")\n",
        "print(f\"F1 Score: {f1:.4f}\")\n",
        "print(f\"AUC-ROC Score: {auc:.4f}\")\n",
        "print(\"Confusion Matrix:\\n\", conf_matrix)\n"
      ],
      "metadata": {
        "id": "KYjpuhfBJ6Yp",
        "colab": {
          "base_uri": "https://localhost:8080/"
        },
        "outputId": "06a59878-204e-4726-e1cf-b099d4e674ae"
      },
      "execution_count": 41,
      "outputs": [
        {
          "output_type": "stream",
          "name": "stdout",
          "text": [
            "Logistic Regression - Adjusted Threshold: 0.30\n",
            "Accuracy: 0.6215\n",
            "F1 Score: 0.7666\n",
            "AUC-ROC Score: 0.5182\n",
            "Confusion Matrix:\n",
            " [[     0  70640]\n",
            " [     0 115992]]\n"
          ]
        }
      ]
    },
    {
      "cell_type": "code",
      "source": [
        "\n",
        "# # Add predicted default probability as a new feature\n",
        "# # Assuming X_l is the DataFrame you want to use for prediction\n",
        "# # and it needs to be scaled\n",
        "\n",
        "# from sklearn.preprocessing import StandardScaler  # Import StandardScaler if not already imported\n",
        "\n",
        "# # Select the features you want to use for prediction (same as in training)\n",
        "# X_l = data.drop([ 'return', 'loan_status'], axis=1)\n",
        "\n",
        "# # Scale the features using StandardScaler\n",
        "# scaler = StandardScaler()\n",
        "# X_l_scaled = scaler.fit_transform(X_l)  # Fit and transform\n",
        "\n",
        "# # Convert the scaled data back into a DataFrame for easier handling\n",
        "# X_l_scaled_df = pd.DataFrame(X_l_scaled, columns=X_l.columns)\n",
        "\n",
        "# # Now you can use X_l_scaled_df for prediction\n",
        "# data['loan_default_prob'] = logreg_model.predict_proba(X_l_scaled_df)[:, 1]\n",
        "\n",
        "# # Save processed dataset\n",
        "# data.to_csv(\"processed_loan_data.csv\", index=False)\n",
        "# print(\"Processed dataset saved with predicted default probabilities.\")"
      ],
      "metadata": {
        "id": "7AuZpNh4_kRH"
      },
      "execution_count": 42,
      "outputs": []
    },
    {
      "cell_type": "code",
      "source": [
        "\n",
        "# # Add predicted default probability as a new feature\n",
        "# # Assuming X_l is the DataFrame you want to use for prediction\n",
        "# # and it needs to be scaled\n",
        "\n",
        "# from sklearn.preprocessing import StandardScaler  # Import StandardScaler if not already imported\n",
        "\n",
        "# # Select the features you want to use for prediction (same as in training)\n",
        "# X_lin = test_data\n",
        "\n",
        "# # Scale the features using StandardScaler\n",
        "# scaler = StandardScaler()\n",
        "# X_l_scaled = scaler.fit_transform(X_lin)  # Fit and transform\n",
        "\n",
        "# # Convert the scaled data back into a DataFrame for easier handling\n",
        "# X_l_scaled_df = pd.DataFrame(X_l_scaled, columns=X_l.columns)\n",
        "\n",
        "# # Now you can use X_l_scaled_df for prediction\n",
        "# test_data['loan_default_prob'] = logreg_model.predict_proba(X_l_scaled_df)[:, 1]\n",
        "\n",
        "# # Save processed dataset\n",
        "# data.to_csv(\"processed_loan_data.csv\", index=False)\n",
        "# print(\"Processed dataset saved with predicted default probabilities.\")"
      ],
      "metadata": {
        "id": "bJxABEmwIJ4D"
      },
      "execution_count": 43,
      "outputs": []
    },
    {
      "cell_type": "code",
      "source": [
        "set(data.columns)-set(test_data.columns)"
      ],
      "metadata": {
        "id": "VZrTQtX2KMWy",
        "colab": {
          "base_uri": "https://localhost:8080/"
        },
        "outputId": "4b94fafd-94b5-4801-9d1d-ac8da3c30d53"
      },
      "execution_count": 44,
      "outputs": [
        {
          "output_type": "execute_result",
          "data": {
            "text/plain": [
              "{'loan_status', 'return'}"
            ]
          },
          "metadata": {},
          "execution_count": 44
        }
      ]
    },
    {
      "cell_type": "code",
      "source": [
        "test_data.columns"
      ],
      "metadata": {
        "id": "CXrZrT8JIHjn",
        "colab": {
          "base_uri": "https://localhost:8080/"
        },
        "outputId": "768354f4-beb9-473a-b802-2330a88789e7"
      },
      "execution_count": 45,
      "outputs": [
        {
          "output_type": "execute_result",
          "data": {
            "text/plain": [
              "Index(['loan_amnt', 'funded_amnt', 'int_rate', 'installment', 'grade',\n",
              "       'sub_grade', 'emp_length', 'home_ownership', 'annual_inc',\n",
              "       'verification_status', 'addr_state', 'dti', 'delinq_2yrs',\n",
              "       'fico_range_low', 'fico_range_high', 'inq_last_6mths',\n",
              "       'mths_since_last_delinq', 'open_acc', 'pub_rec', 'revol_bal',\n",
              "       'revol_util', 'total_acc', 'collections_12_mths_ex_med',\n",
              "       'acc_now_delinq', 'chargeoff_within_12_mths', 'delinq_amnt',\n",
              "       'pub_rec_bankruptcies', 'tax_liens', 'year', 'fico_avg',\n",
              "       'loan_amnt_squared'],\n",
              "      dtype='object')"
            ]
          },
          "metadata": {},
          "execution_count": 45
        }
      ]
    },
    {
      "cell_type": "code",
      "source": [
        "# prompt: expanding-window regularly\n",
        "# updating training and validation sets. You need to justify why you chose either approach.\n",
        "\n",
        "import pandas as pd\n",
        "from sklearn.model_selection import train_test_split\n",
        "\n",
        "# Function to create training and validation sets with an expanding window\n",
        "def expanding_window_split(data, train_size):\n",
        "    data_size = len(data)\n",
        "    train_index = int(train_size * data_size)\n",
        "\n",
        "    y = data['return']\n",
        "    X = data.drop(['return', 'loan_status'], axis=1)  # Features\n",
        "    # y = data[['return',]]  # Target variable\n",
        "\n",
        "    X_train = X.iloc[:train_index]\n",
        "    X_val = X.iloc[train_index:]\n",
        "    y_train = y.iloc[:train_index]\n",
        "    y_val = y.iloc[train_index:]\n",
        "\n",
        "    return X_train, X_val, y_train, y_val\n",
        "\n",
        "# Example usage:\n",
        "train_size_ratio = 0.8 #Example\n",
        "X_train, X_val, y_train, y_val = expanding_window_split(data, train_size_ratio)\n",
        "\n",
        "print(f\"Training data shape: {X_train.shape}\")\n",
        "print(f\"Validation data shape: {X_val.shape}\")\n"
      ],
      "metadata": {
        "id": "LrppQckBFzs3",
        "colab": {
          "base_uri": "https://localhost:8080/"
        },
        "outputId": "aff35071-82e2-4e91-fbbb-6916c93aead8"
      },
      "execution_count": 46,
      "outputs": [
        {
          "output_type": "stream",
          "name": "stdout",
          "text": [
            "Training data shape: (746528, 31)\n",
            "Validation data shape: (186632, 31)\n"
          ]
        }
      ]
    },
    {
      "cell_type": "code",
      "source": [
        "# prompt: run simple regression model\n",
        "\n",
        "from sklearn.linear_model import LinearRegression\n",
        "from sklearn.metrics import mean_squared_error, r2_score\n",
        "# Ensure X_train_return is properly initialized\n",
        "X_train_return, y_train_return = X_train.copy(), y_train\n",
        "X_val_return, y_val_return = X_val.copy(), y_val\n",
        "\n",
        "\n",
        "\n",
        "# Initialize the linear regression model\n",
        "lr_model = LinearRegression()\n",
        "\n",
        "# Train the model on the training data\n",
        "lr_model.fit(X_train, y_train)\n",
        "\n",
        "# Make predictions on the validation data\n",
        "y_pred = lr_model.predict(X_val)\n",
        "\n",
        "# Evaluate the model\n",
        "mse = mean_squared_error(y_val, y_pred)\n",
        "r2 = r2_score(y_val, y_pred)\n",
        "\n",
        "# Make predictions on the training data\n",
        "y_pred_train = lr_model.predict(X_train)\n",
        "\n",
        "# Calculate the R-squared for the training data\n",
        "r2_train = r2_score(y_train, y_pred_train)\n",
        "print(f\"Mean Squared Error: {mse}\")\n",
        "print(f\"R-squared: {r2}\")\n",
        "print(f\"In-sample R-squared: {r2_train}\")\n",
        "print(f\"Out-of-sample R-squared: {r2}\")\n"
      ],
      "metadata": {
        "id": "QrhjpTzhFY0i",
        "colab": {
          "base_uri": "https://localhost:8080/"
        },
        "outputId": "3da216bd-24c9-48c7-ea42-4f8f8b83978e"
      },
      "execution_count": 47,
      "outputs": [
        {
          "output_type": "stream",
          "name": "stdout",
          "text": [
            "Mean Squared Error: 0.06910539884495703\n",
            "R-squared: 0.0053510546289327054\n",
            "In-sample R-squared: 0.012896803865904194\n",
            "Out-of-sample R-squared: 0.0053510546289327054\n"
          ]
        }
      ]
    },
    {
      "cell_type": "markdown",
      "source": [
        "# MLP"
      ],
      "metadata": {
        "id": "wqLU40zhaqm5"
      }
    },
    {
      "source": [
        "#chnages made\n",
        "import tensorflow as tf\n",
        "from tensorflow.keras.models import Sequential\n",
        "from tensorflow.keras.layers import Dense\n",
        "from tensorflow.keras.callbacks import EarlyStopping, ModelCheckpoint, ReduceLROnPlateau\n",
        "import matplotlib.pyplot as plt\n",
        "from sklearn.preprocessing import StandardScaler\n",
        "\n",
        "\n",
        "# Assuming X_train and y_train are your training data and labels\n",
        "# and you have already performed the train-test split\n",
        "\n",
        "# Standardize features to speed up convergence\n",
        "scaler = StandardScaler()\n",
        "X_train_scaled = scaler.fit_transform(X_train)\n",
        "X_val_scaled = scaler.transform(X_val)  # Use the same scaler for validation data\n",
        "\n",
        "\n",
        "# Build a neural network model for regression\n",
        "model = Sequential([\n",
        "    Dense(64, activation='relu', input_shape=(X_train_scaled.shape[1],)),  # Input shape specified here\n",
        "    Dense(32, activation='relu'),\n",
        "    Dense(1)  # Single neuron for regression output\n",
        "])\n",
        "\n",
        "# Compile the model using the Adam optimizer and mean squared error loss\n",
        "model.compile(optimizer='adam', loss='mean_squared_error', metrics=['mae'])\n",
        "\n",
        "\n",
        "# Define callbacks for enhanced training control\n",
        "early_stop = EarlyStopping(monitor='val_loss', patience=10, restore_best_weights=True, verbose=1)\n",
        "model_ckpt = ModelCheckpoint('best_model.h5', monitor='val_loss', save_best_only=True, verbose=1)\n",
        "reduce_lr = ReduceLROnPlateau(monitor='val_loss', factor=0.5, patience=5, verbose=1)\n",
        "\n",
        "# Train the model, reserving 10% of the training data for validation\n",
        "history = model.fit(X_train_scaled, y_train,\n",
        "                    epochs=100,\n",
        "                    batch_size=16,\n",
        "                    validation_data=(X_val_scaled, y_val),  # Validation data provided here\n",
        "                    callbacks=[early_stop, model_ckpt, reduce_lr])\n",
        "                    # callbacks=[model_ckpt, reduce_lr])\n",
        "\n",
        "# Plot training & validation lossH\n",
        "plt.figure(figsize=(8, 5))\n",
        "plt.plot(history.history['loss'], label='Training Loss')\n",
        "plt.plot(history.history['val_loss'], label='Validation Loss')\n",
        "plt.title('Training and Validation Loss')\n",
        "plt.xlabel('Epoch')\n",
        "plt.ylabel('Loss (MSE)')\n",
        "plt.legend()\n",
        "plt.show()"
      ],
      "cell_type": "code",
      "metadata": {
        "colab": {
          "base_uri": "https://localhost:8080/",
          "height": 1000
        },
        "id": "KHxBayclQ86h",
        "outputId": "ccd8355d-5b8b-4b35-e3e1-9fb87f87d6a2"
      },
      "execution_count": 48,
      "outputs": [
        {
          "output_type": "stream",
          "name": "stderr",
          "text": [
            "/usr/local/lib/python3.11/dist-packages/keras/src/layers/core/dense.py:87: UserWarning: Do not pass an `input_shape`/`input_dim` argument to a layer. When using Sequential models, prefer using an `Input(shape)` object as the first layer in the model instead.\n",
            "  super().__init__(activity_regularizer=activity_regularizer, **kwargs)\n"
          ]
        },
        {
          "output_type": "stream",
          "name": "stdout",
          "text": [
            "Epoch 1/100\n",
            "\u001b[1m46645/46658\u001b[0m \u001b[32m━━━━━━━━━━━━━━━━━━━\u001b[0m\u001b[37m━\u001b[0m \u001b[1m0s\u001b[0m 2ms/step - loss: 0.0600 - mae: 0.1513\n",
            "Epoch 1: val_loss improved from inf to 0.06908, saving model to best_model.h5\n"
          ]
        },
        {
          "output_type": "stream",
          "name": "stderr",
          "text": [
            "WARNING:absl:You are saving your model as an HDF5 file via `model.save()` or `keras.saving.save_model(model)`. This file format is considered legacy. We recommend using instead the native Keras format, e.g. `model.save('my_model.keras')` or `keras.saving.save_model(model, 'my_model.keras')`. \n"
          ]
        },
        {
          "output_type": "stream",
          "name": "stdout",
          "text": [
            "\b\b\b\b\b\b\b\b\b\b\b\b\b\b\b\b\b\b\b\b\b\b\b\b\b\b\b\b\b\b\b\b\b\b\b\b\b\b\b\b\b\b\b\b\b\b\b\b\b\b\b\b\b\b\b\b\b\b\b\b\b\b\b\b\b\b\b\b\b\b\b\b\b\r\u001b[1m46658/46658\u001b[0m \u001b[32m━━━━━━━━━━━━━━━━━━━━\u001b[0m\u001b[37m\u001b[0m \u001b[1m128s\u001b[0m 3ms/step - loss: 0.0600 - mae: 0.1513 - val_loss: 0.0691 - val_mae: 0.1800 - learning_rate: 0.0010\n",
            "Epoch 2/100\n",
            "\u001b[1m46658/46658\u001b[0m \u001b[32m━━━━━━━━━━━━━━━━━━━━\u001b[0m\u001b[37m\u001b[0m \u001b[1m0s\u001b[0m 2ms/step - loss: 0.0580 - mae: 0.1480\n",
            "Epoch 2: val_loss improved from 0.06908 to 0.06863, saving model to best_model.h5\n"
          ]
        },
        {
          "output_type": "stream",
          "name": "stderr",
          "text": [
            "WARNING:absl:You are saving your model as an HDF5 file via `model.save()` or `keras.saving.save_model(model)`. This file format is considered legacy. We recommend using instead the native Keras format, e.g. `model.save('my_model.keras')` or `keras.saving.save_model(model, 'my_model.keras')`. \n"
          ]
        },
        {
          "output_type": "stream",
          "name": "stdout",
          "text": [
            "\b\b\b\b\b\b\b\b\b\b\b\b\b\b\b\b\b\b\b\b\b\b\b\b\b\b\b\b\b\b\b\b\b\b\b\b\b\b\b\b\b\b\b\b\b\b\b\b\b\b\b\b\b\b\b\b\b\b\b\b\b\b\b\b\b\b\b\b\b\b\b\b\b\r\u001b[1m46658/46658\u001b[0m \u001b[32m━━━━━━━━━━━━━━━━━━━━\u001b[0m\u001b[37m\u001b[0m \u001b[1m127s\u001b[0m 2ms/step - loss: 0.0580 - mae: 0.1480 - val_loss: 0.0686 - val_mae: 0.1698 - learning_rate: 0.0010\n",
            "Epoch 3/100\n",
            "\u001b[1m46656/46658\u001b[0m \u001b[32m━━━━━━━━━━━━━━━━━━━\u001b[0m\u001b[37m━\u001b[0m \u001b[1m0s\u001b[0m 2ms/step - loss: 0.0581 - mae: 0.1482\n",
            "Epoch 3: val_loss did not improve from 0.06863\n",
            "\u001b[1m46658/46658\u001b[0m \u001b[32m━━━━━━━━━━━━━━━━━━━━\u001b[0m\u001b[37m\u001b[0m \u001b[1m125s\u001b[0m 3ms/step - loss: 0.0581 - mae: 0.1482 - val_loss: 0.0686 - val_mae: 0.1691 - learning_rate: 0.0010\n",
            "Epoch 4/100\n",
            "\u001b[1m46633/46658\u001b[0m \u001b[32m━━━━━━━━━━━━━━━━━━━\u001b[0m\u001b[37m━\u001b[0m \u001b[1m0s\u001b[0m 2ms/step - loss: 0.0584 - mae: 0.1487\n",
            "Epoch 4: val_loss did not improve from 0.06863\n",
            "\u001b[1m46658/46658\u001b[0m \u001b[32m━━━━━━━━━━━━━━━━━━━━\u001b[0m\u001b[37m\u001b[0m \u001b[1m111s\u001b[0m 2ms/step - loss: 0.0584 - mae: 0.1487 - val_loss: 0.0688 - val_mae: 0.1737 - learning_rate: 0.0010\n",
            "Epoch 5/100\n",
            "\u001b[1m46634/46658\u001b[0m \u001b[32m━━━━━━━━━━━━━━━━━━━\u001b[0m\u001b[37m━\u001b[0m \u001b[1m0s\u001b[0m 2ms/step - loss: 0.0584 - mae: 0.1488\n",
            "Epoch 5: val_loss did not improve from 0.06863\n",
            "\u001b[1m46658/46658\u001b[0m \u001b[32m━━━━━━━━━━━━━━━━━━━━\u001b[0m\u001b[37m\u001b[0m \u001b[1m137s\u001b[0m 2ms/step - loss: 0.0584 - mae: 0.1488 - val_loss: 0.0691 - val_mae: 0.1768 - learning_rate: 0.0010\n",
            "Epoch 6/100\n",
            "\u001b[1m46642/46658\u001b[0m \u001b[32m━━━━━━━━━━━━━━━━━━━\u001b[0m\u001b[37m━\u001b[0m \u001b[1m0s\u001b[0m 2ms/step - loss: 0.0583 - mae: 0.1485\n",
            "Epoch 6: val_loss did not improve from 0.06863\n",
            "\u001b[1m46658/46658\u001b[0m \u001b[32m━━━━━━━━━━━━━━━━━━━━\u001b[0m\u001b[37m\u001b[0m \u001b[1m146s\u001b[0m 2ms/step - loss: 0.0583 - mae: 0.1485 - val_loss: 0.0686 - val_mae: 0.1712 - learning_rate: 0.0010\n",
            "Epoch 7/100\n",
            "\u001b[1m46631/46658\u001b[0m \u001b[32m━━━━━━━━━━━━━━━━━━━\u001b[0m\u001b[37m━\u001b[0m \u001b[1m0s\u001b[0m 2ms/step - loss: 0.0585 - mae: 0.1492\n",
            "Epoch 7: val_loss did not improve from 0.06863\n",
            "\n",
            "Epoch 7: ReduceLROnPlateau reducing learning rate to 0.0005000000237487257.\n",
            "\u001b[1m46658/46658\u001b[0m \u001b[32m━━━━━━━━━━━━━━━━━━━━\u001b[0m\u001b[37m\u001b[0m \u001b[1m106s\u001b[0m 2ms/step - loss: 0.0585 - mae: 0.1492 - val_loss: 0.0687 - val_mae: 0.1643 - learning_rate: 0.0010\n",
            "Epoch 8/100\n",
            "\u001b[1m46643/46658\u001b[0m \u001b[32m━━━━━━━━━━━━━━━━━━━\u001b[0m\u001b[37m━\u001b[0m \u001b[1m0s\u001b[0m 2ms/step - loss: 0.0581 - mae: 0.1482\n",
            "Epoch 8: val_loss improved from 0.06863 to 0.06856, saving model to best_model.h5\n"
          ]
        },
        {
          "output_type": "stream",
          "name": "stderr",
          "text": [
            "WARNING:absl:You are saving your model as an HDF5 file via `model.save()` or `keras.saving.save_model(model)`. This file format is considered legacy. We recommend using instead the native Keras format, e.g. `model.save('my_model.keras')` or `keras.saving.save_model(model, 'my_model.keras')`. \n"
          ]
        },
        {
          "output_type": "stream",
          "name": "stdout",
          "text": [
            "\b\b\b\b\b\b\b\b\b\b\b\b\b\b\b\b\b\b\b\b\b\b\b\b\b\b\b\b\b\b\b\b\b\b\b\b\b\b\b\b\b\b\b\b\b\b\b\b\b\b\b\b\b\b\b\b\b\b\b\b\b\b\b\b\b\b\b\b\b\b\b\b\b\r\u001b[1m46658/46658\u001b[0m \u001b[32m━━━━━━━━━━━━━━━━━━━━\u001b[0m\u001b[37m\u001b[0m \u001b[1m147s\u001b[0m 2ms/step - loss: 0.0581 - mae: 0.1482 - val_loss: 0.0686 - val_mae: 0.1695 - learning_rate: 5.0000e-04\n",
            "Epoch 9/100\n",
            "\u001b[1m46651/46658\u001b[0m \u001b[32m━━━━━━━━━━━━━━━━━━━\u001b[0m\u001b[37m━\u001b[0m \u001b[1m0s\u001b[0m 2ms/step - loss: 0.0579 - mae: 0.1478\n",
            "Epoch 9: val_loss did not improve from 0.06856\n",
            "\u001b[1m46658/46658\u001b[0m \u001b[32m━━━━━━━━━━━━━━━━━━━━\u001b[0m\u001b[37m\u001b[0m \u001b[1m110s\u001b[0m 2ms/step - loss: 0.0579 - mae: 0.1478 - val_loss: 0.0694 - val_mae: 0.1767 - learning_rate: 5.0000e-04\n",
            "Epoch 10/100\n",
            "\u001b[1m46638/46658\u001b[0m \u001b[32m━━━━━━━━━━━━━━━━━━━\u001b[0m\u001b[37m━\u001b[0m \u001b[1m0s\u001b[0m 2ms/step - loss: 0.0583 - mae: 0.1486\n",
            "Epoch 10: val_loss improved from 0.06856 to 0.06856, saving model to best_model.h5\n"
          ]
        },
        {
          "output_type": "stream",
          "name": "stderr",
          "text": [
            "WARNING:absl:You are saving your model as an HDF5 file via `model.save()` or `keras.saving.save_model(model)`. This file format is considered legacy. We recommend using instead the native Keras format, e.g. `model.save('my_model.keras')` or `keras.saving.save_model(model, 'my_model.keras')`. \n"
          ]
        },
        {
          "output_type": "stream",
          "name": "stdout",
          "text": [
            "\b\b\b\b\b\b\b\b\b\b\b\b\b\b\b\b\b\b\b\b\b\b\b\b\b\b\b\b\b\b\b\b\b\b\b\b\b\b\b\b\b\b\b\b\b\b\b\b\b\b\b\b\b\b\b\b\b\b\b\b\b\b\b\b\b\b\b\b\b\b\b\b\b\r\u001b[1m46658/46658\u001b[0m \u001b[32m━━━━━━━━━━━━━━━━━━━━\u001b[0m\u001b[37m\u001b[0m \u001b[1m109s\u001b[0m 2ms/step - loss: 0.0583 - mae: 0.1486 - val_loss: 0.0686 - val_mae: 0.1670 - learning_rate: 5.0000e-04\n",
            "Epoch 11/100\n",
            "\u001b[1m46649/46658\u001b[0m \u001b[32m━━━━━━━━━━━━━━━━━━━\u001b[0m\u001b[37m━\u001b[0m \u001b[1m0s\u001b[0m 2ms/step - loss: 0.0582 - mae: 0.1484\n",
            "Epoch 11: val_loss did not improve from 0.06856\n",
            "\u001b[1m46658/46658\u001b[0m \u001b[32m━━━━━━━━━━━━━━━━━━━━\u001b[0m\u001b[37m\u001b[0m \u001b[1m145s\u001b[0m 2ms/step - loss: 0.0582 - mae: 0.1484 - val_loss: 0.0686 - val_mae: 0.1692 - learning_rate: 5.0000e-04\n",
            "Epoch 12/100\n",
            "\u001b[1m46650/46658\u001b[0m \u001b[32m━━━━━━━━━━━━━━━━━━━\u001b[0m\u001b[37m━\u001b[0m \u001b[1m0s\u001b[0m 2ms/step - loss: 0.0578 - mae: 0.1479\n",
            "Epoch 12: val_loss did not improve from 0.06856\n",
            "\n",
            "Epoch 12: ReduceLROnPlateau reducing learning rate to 0.0002500000118743628.\n",
            "\u001b[1m46658/46658\u001b[0m \u001b[32m━━━━━━━━━━━━━━━━━━━━\u001b[0m\u001b[37m\u001b[0m \u001b[1m144s\u001b[0m 2ms/step - loss: 0.0578 - mae: 0.1479 - val_loss: 0.0686 - val_mae: 0.1658 - learning_rate: 5.0000e-04\n",
            "Epoch 13/100\n",
            "\u001b[1m46647/46658\u001b[0m \u001b[32m━━━━━━━━━━━━━━━━━━━\u001b[0m\u001b[37m━\u001b[0m \u001b[1m0s\u001b[0m 2ms/step - loss: 0.0581 - mae: 0.1484\n",
            "Epoch 13: val_loss did not improve from 0.06856\n",
            "\u001b[1m46658/46658\u001b[0m \u001b[32m━━━━━━━━━━━━━━━━━━━━\u001b[0m\u001b[37m\u001b[0m \u001b[1m108s\u001b[0m 2ms/step - loss: 0.0581 - mae: 0.1484 - val_loss: 0.0686 - val_mae: 0.1704 - learning_rate: 2.5000e-04\n",
            "Epoch 14/100\n",
            "\u001b[1m46655/46658\u001b[0m \u001b[32m━━━━━━━━━━━━━━━━━━━\u001b[0m\u001b[37m━\u001b[0m \u001b[1m0s\u001b[0m 2ms/step - loss: 0.0580 - mae: 0.1481\n",
            "Epoch 14: val_loss improved from 0.06856 to 0.06852, saving model to best_model.h5\n"
          ]
        },
        {
          "output_type": "stream",
          "name": "stderr",
          "text": [
            "WARNING:absl:You are saving your model as an HDF5 file via `model.save()` or `keras.saving.save_model(model)`. This file format is considered legacy. We recommend using instead the native Keras format, e.g. `model.save('my_model.keras')` or `keras.saving.save_model(model, 'my_model.keras')`. \n"
          ]
        },
        {
          "output_type": "stream",
          "name": "stdout",
          "text": [
            "\b\b\b\b\b\b\b\b\b\b\b\b\b\b\b\b\b\b\b\b\b\b\b\b\b\b\b\b\b\b\b\b\b\b\b\b\b\b\b\b\b\b\b\b\b\b\b\b\b\b\b\b\b\b\b\b\b\b\b\b\b\b\b\b\b\b\b\b\b\b\b\b\b\r\u001b[1m46658/46658\u001b[0m \u001b[32m━━━━━━━━━━━━━━━━━━━━\u001b[0m\u001b[37m\u001b[0m \u001b[1m110s\u001b[0m 2ms/step - loss: 0.0580 - mae: 0.1481 - val_loss: 0.0685 - val_mae: 0.1683 - learning_rate: 2.5000e-04\n",
            "Epoch 15/100\n",
            "\u001b[1m46641/46658\u001b[0m \u001b[32m━━━━━━━━━━━━━━━━━━━\u001b[0m\u001b[37m━\u001b[0m \u001b[1m0s\u001b[0m 2ms/step - loss: 0.0580 - mae: 0.1481\n",
            "Epoch 15: val_loss did not improve from 0.06852\n",
            "\u001b[1m46658/46658\u001b[0m \u001b[32m━━━━━━━━━━━━━━━━━━━━\u001b[0m\u001b[37m\u001b[0m \u001b[1m112s\u001b[0m 2ms/step - loss: 0.0580 - mae: 0.1481 - val_loss: 0.0690 - val_mae: 0.1742 - learning_rate: 2.5000e-04\n",
            "Epoch 16/100\n",
            "\u001b[1m46638/46658\u001b[0m \u001b[32m━━━━━━━━━━━━━━━━━━━\u001b[0m\u001b[37m━\u001b[0m \u001b[1m0s\u001b[0m 2ms/step - loss: 0.0578 - mae: 0.1477\n",
            "Epoch 16: val_loss did not improve from 0.06852\n",
            "\u001b[1m46658/46658\u001b[0m \u001b[32m━━━━━━━━━━━━━━━━━━━━\u001b[0m\u001b[37m\u001b[0m \u001b[1m111s\u001b[0m 2ms/step - loss: 0.0578 - mae: 0.1477 - val_loss: 0.0686 - val_mae: 0.1697 - learning_rate: 2.5000e-04\n",
            "Epoch 17/100\n",
            "\u001b[1m46652/46658\u001b[0m \u001b[32m━━━━━━━━━━━━━━━━━━━\u001b[0m\u001b[37m━\u001b[0m \u001b[1m0s\u001b[0m 2ms/step - loss: 0.0576 - mae: 0.1474\n",
            "Epoch 17: val_loss did not improve from 0.06852\n",
            "\u001b[1m46658/46658\u001b[0m \u001b[32m━━━━━━━━━━━━━━━━━━━━\u001b[0m\u001b[37m\u001b[0m \u001b[1m111s\u001b[0m 2ms/step - loss: 0.0576 - mae: 0.1474 - val_loss: 0.0687 - val_mae: 0.1706 - learning_rate: 2.5000e-04\n",
            "Epoch 18/100\n",
            "\u001b[1m46655/46658\u001b[0m \u001b[32m━━━━━━━━━━━━━━━━━━━\u001b[0m\u001b[37m━\u001b[0m \u001b[1m0s\u001b[0m 2ms/step - loss: 0.0579 - mae: 0.1480\n",
            "Epoch 18: val_loss did not improve from 0.06852\n",
            "\u001b[1m46658/46658\u001b[0m \u001b[32m━━━━━━━━━━━━━━━━━━━━\u001b[0m\u001b[37m\u001b[0m \u001b[1m107s\u001b[0m 2ms/step - loss: 0.0579 - mae: 0.1480 - val_loss: 0.0686 - val_mae: 0.1707 - learning_rate: 2.5000e-04\n",
            "Epoch 19/100\n",
            "\u001b[1m46639/46658\u001b[0m \u001b[32m━━━━━━━━━━━━━━━━━━━\u001b[0m\u001b[37m━\u001b[0m \u001b[1m0s\u001b[0m 2ms/step - loss: 0.0580 - mae: 0.1482\n",
            "Epoch 19: val_loss did not improve from 0.06852\n",
            "\n",
            "Epoch 19: ReduceLROnPlateau reducing learning rate to 0.0001250000059371814.\n",
            "\u001b[1m46658/46658\u001b[0m \u001b[32m━━━━━━━━━━━━━━━━━━━━\u001b[0m\u001b[37m\u001b[0m \u001b[1m145s\u001b[0m 2ms/step - loss: 0.0580 - mae: 0.1482 - val_loss: 0.0686 - val_mae: 0.1710 - learning_rate: 2.5000e-04\n",
            "Epoch 20/100\n",
            "\u001b[1m46644/46658\u001b[0m \u001b[32m━━━━━━━━━━━━━━━━━━━\u001b[0m\u001b[37m━\u001b[0m \u001b[1m0s\u001b[0m 2ms/step - loss: 0.0576 - mae: 0.1477\n",
            "Epoch 20: val_loss did not improve from 0.06852\n",
            "\u001b[1m46658/46658\u001b[0m \u001b[32m━━━━━━━━━━━━━━━━━━━━\u001b[0m\u001b[37m\u001b[0m \u001b[1m139s\u001b[0m 2ms/step - loss: 0.0576 - mae: 0.1477 - val_loss: 0.0687 - val_mae: 0.1730 - learning_rate: 1.2500e-04\n",
            "Epoch 21/100\n",
            "\u001b[1m46628/46658\u001b[0m \u001b[32m━━━━━━━━━━━━━━━━━━━\u001b[0m\u001b[37m━\u001b[0m \u001b[1m0s\u001b[0m 2ms/step - loss: 0.0580 - mae: 0.1482\n",
            "Epoch 21: val_loss did not improve from 0.06852\n",
            "\u001b[1m46658/46658\u001b[0m \u001b[32m━━━━━━━━━━━━━━━━━━━━\u001b[0m\u001b[37m\u001b[0m \u001b[1m144s\u001b[0m 2ms/step - loss: 0.0580 - mae: 0.1482 - val_loss: 0.0686 - val_mae: 0.1701 - learning_rate: 1.2500e-04\n",
            "Epoch 22/100\n",
            "\u001b[1m46641/46658\u001b[0m \u001b[32m━━━━━━━━━━━━━━━━━━━\u001b[0m\u001b[37m━\u001b[0m \u001b[1m0s\u001b[0m 2ms/step - loss: 0.0578 - mae: 0.1479\n",
            "Epoch 22: val_loss did not improve from 0.06852\n",
            "\u001b[1m46658/46658\u001b[0m \u001b[32m━━━━━━━━━━━━━━━━━━━━\u001b[0m\u001b[37m\u001b[0m \u001b[1m144s\u001b[0m 2ms/step - loss: 0.0578 - mae: 0.1479 - val_loss: 0.0686 - val_mae: 0.1709 - learning_rate: 1.2500e-04\n",
            "Epoch 23/100\n",
            "\u001b[1m46641/46658\u001b[0m \u001b[32m━━━━━━━━━━━━━━━━━━━\u001b[0m\u001b[37m━\u001b[0m \u001b[1m0s\u001b[0m 2ms/step - loss: 0.0577 - mae: 0.1480\n",
            "Epoch 23: val_loss did not improve from 0.06852\n",
            "\u001b[1m46658/46658\u001b[0m \u001b[32m━━━━━━━━━━━━━━━━━━━━\u001b[0m\u001b[37m\u001b[0m \u001b[1m110s\u001b[0m 2ms/step - loss: 0.0577 - mae: 0.1480 - val_loss: 0.0686 - val_mae: 0.1707 - learning_rate: 1.2500e-04\n",
            "Epoch 24/100\n",
            "\u001b[1m46643/46658\u001b[0m \u001b[32m━━━━━━━━━━━━━━━━━━━\u001b[0m\u001b[37m━\u001b[0m \u001b[1m0s\u001b[0m 2ms/step - loss: 0.0579 - mae: 0.1481\n",
            "Epoch 24: val_loss did not improve from 0.06852\n",
            "\n",
            "Epoch 24: ReduceLROnPlateau reducing learning rate to 6.25000029685907e-05.\n",
            "\u001b[1m46658/46658\u001b[0m \u001b[32m━━━━━━━━━━━━━━━━━━━━\u001b[0m\u001b[37m\u001b[0m \u001b[1m141s\u001b[0m 2ms/step - loss: 0.0579 - mae: 0.1481 - val_loss: 0.0687 - val_mae: 0.1723 - learning_rate: 1.2500e-04\n",
            "Epoch 24: early stopping\n",
            "Restoring model weights from the end of the best epoch: 14.\n"
          ]
        },
        {
          "output_type": "display_data",
          "data": {
            "text/plain": [
              "<Figure size 800x500 with 1 Axes>"
            ],
            "image/png": "[encoded data removed]"
          },
          "metadata": {}
        }
      ]
    },
    {
      "cell_type": "code",
      "source": [
        "# prompt: import and train random forest model\n",
        "\n",
        "from sklearn.ensemble import RandomForestRegressor\n",
        "\n",
        "# Assuming X_train, y_train, X_val, and y_val are already defined\n",
        "\n",
        "# Initialize the Random Forest model\n",
        "rf_model = RandomForestRegressor(n_estimators=100, random_state=42)  # You can adjust n_estimators\n",
        "\n",
        "# Train the model\n",
        "rf_model.fit(X_train, y_train)\n",
        "\n",
        "# Make predictions on the validation set\n",
        "y_pred_rf = rf_model.predict(X_val)\n",
        "\n",
        "# Evaluate the model (example using R-squared)\n",
        "r2_rf = r2_score(y_val, y_pred_rf)\n",
        "print(f\"Random Forest R-squared: {r2_rf}\")\n",
        "\n",
        "# You can also use other metrics like Mean Squared Error (MSE)\n",
        "mse_rf = mean_squared_error(y_val, y_pred_rf)\n",
        "print(f\"Random Forest MSE: {mse_rf}\")\n"
      ],
      "metadata": {
        "colab": {
          "base_uri": "https://localhost:8080/"
        },
        "id": "B1zl1S0I9eTy",
        "outputId": "6143809b-119e-49eb-d567-7e0b0e614576"
      },
      "execution_count": 49,
      "outputs": [
        {
          "output_type": "stream",
          "name": "stdout",
          "text": [
            "Random Forest R-squared: -0.030617631272426005\n",
            "Random Forest MSE: 0.07160440152998486\n"
          ]
        }
      ]
    },
    {
      "cell_type": "markdown",
      "source": [
        "# Final Predictions and Submission Preparation\n"
      ],
      "metadata": {
        "id": "88Pfu7fwhgdn"
      }
    },
    {
      "cell_type": "code",
      "source": [
        "# # Add predicted default probability as a new feature\n",
        "# # Assuming X_l is the DataFrame you want to use for prediction\n",
        "# # and it needs to be scaled\n",
        "\n",
        "# from sklearn.preprocessing import StandardScaler  # Import StandardScaler if not already imported\n",
        "\n",
        "\n",
        "# # Scale the features using StandardScaler\n",
        "# scaler = StandardScaler()\n",
        "# X_l_scaled = scaler.fit_transform(test_data)  # Fit and transform\n",
        "\n",
        "# # Convert the scaled data back into a DataFrame for easier handling\n",
        "# X_l_scaled_df = pd.DataFrame(X_l_scaled, columns=test_data.columns)\n",
        "\n",
        "# # Now you can use X_l_scaled_df for prediction\n",
        "# test_data['return'] = lr_model.predict(test_data)\n",
        "\n",
        "# # Save processed dataset\n",
        "# # test_data.to_csv(\"processed_loan_data.csv\", index=False)\n",
        "# print(\"Processed dataset saved with predicted default probabilities.\")"
      ],
      "metadata": {
        "id": "Xw8rEAzjGI97"
      },
      "execution_count": 50,
      "outputs": []
    },
    {
      "source": [
        "# # logistic regression\n",
        "# # Add predicted default probability as a new feature\n",
        "# # Assuming X_l is the DataFrame you want to use for prediction\n",
        "# # and it needs to be scaled\n",
        "\n",
        "# from sklearn.preprocessing import StandardScaler  # Import StandardScaler if not already imported\n",
        "\n",
        "# # Select the features you want to use for prediction (same as in training)\n",
        "# X_lin = test_data.drop(columns=['return'], errors='ignore')  # Drop 'return' if it exists\n",
        "\n",
        "# # Scale the features using StandardScaler\n",
        "# scaler = StandardScaler()\n",
        "# X_l_scaled = scaler.fit_transform(X_lin)  # Fit and transform\n",
        "\n",
        "# # Convert the scaled data back into a DataFrame for easier handling\n",
        "# # Ensure the columns match the original training data\n",
        "# X_l_scaled_df = pd.DataFrame(X_l_scaled, columns=X_lin.columns)\n",
        "\n",
        "# # Assuming X_l_train is the DataFrame used for training the model\n",
        "# training_features = X_l_train.columns\n",
        "\n",
        "# # Select only the columns used during training\n",
        "# X_l_scaled_df = X_l_scaled_df[training_features]\n",
        "\n",
        "# # Now you can use X_l_scaled_df for prediction\n",
        "# test_data['return'] = logreg_model.predict(X_l_scaled_df)  # Use X_l_scaled_df\n",
        "\n",
        "# # Save processed dataset\n",
        "# # test_data.to_csv(\"processed_loan_data.csv\", index=False)\n",
        "# print(\"Processed dataset saved with predicted default probabilities.\")"
      ],
      "cell_type": "code",
      "metadata": {
        "id": "reuNnw2FisMA"
      },
      "execution_count": 61,
      "outputs": []
    },
    {
      "cell_type": "code",
      "source": [
        "import pandas as pd\n",
        "from sklearn.preprocessing import StandardScaler\n",
        "\n",
        "# Assume test_data is your DataFrame for prediction.\n",
        "# Remove the target column if it exists, so we only have features.\n",
        "if 'return' in test_data.columns:\n",
        "    test_features = test_data.drop(['return'], axis=1)\n",
        "else:\n",
        "    test_features = test_data.copy()\n",
        "\n",
        "# Optional: Verify that the columns match what was used in training.\n",
        "# Training features were likely: set(data.columns) - {'loan_status', 'return'}\n",
        "expected_features = set(data.columns) - {'loan_status', 'return'}\n",
        "print(\"Expected features:\", expected_features)\n",
        "print(\"Test data features:\", set(test_features.columns))\n",
        "\n",
        "# Scale the test features.\n",
        "scaler = StandardScaler()\n",
        "X_test_scaled = scaler.fit_transform(test_features)\n",
        "\n",
        "# Convert the scaled array back to a DataFrame, preserving the feature names.\n",
        "X_test_scaled_df = pd.DataFrame(X_test_scaled, columns=test_features.columns)\n",
        "\n",
        "# Use your neural network model to predict returns.\n",
        "# The model should output an array of shape (n_samples, 1). We flatten it to match.\n",
        "test_data['return'] = model.predict(X_test_scaled_df).flatten()\n",
        "\n",
        "# Optionally, save the processed dataset.\n",
        "# test_data.to_csv(\"processed_loan_data.csv\", index=False)\n",
        "print(\"Processed dataset saved with predicted return values from the neural network.\")\n"
      ],
      "metadata": {
        "id": "yJma1r2uy03p",
        "colab": {
          "base_uri": "https://localhost:8080/"
        },
        "outputId": "eb754609-10b2-4f4a-e847-488d481ffa09"
      },
      "execution_count": 62,
      "outputs": [
        {
          "output_type": "stream",
          "name": "stdout",
          "text": [
            "Expected features: {'dti', 'loan_amnt', 'revol_util', 'fico_range_high', 'open_acc', 'int_rate', 'pub_rec_bankruptcies', 'fico_avg', 'revol_bal', 'addr_state', 'funded_amnt', 'home_ownership', 'installment', 'mths_since_last_delinq', 'tax_liens', 'fico_range_low', 'sub_grade', 'emp_length', 'annual_inc', 'collections_12_mths_ex_med', 'grade', 'loan_amnt_squared', 'delinq_2yrs', 'pub_rec', 'chargeoff_within_12_mths', 'delinq_amnt', 'inq_last_6mths', 'year', 'acc_now_delinq', 'total_acc', 'verification_status'}\n",
            "Test data features: {'dti', 'loan_amnt', 'revol_util', 'fico_range_high', 'open_acc', 'int_rate', 'pub_rec_bankruptcies', 'fico_avg', 'revol_bal', 'addr_state', 'funded_amnt', 'home_ownership', 'installment', 'mths_since_last_delinq', 'tax_liens', 'fico_range_low', 'sub_grade', 'emp_length', 'annual_inc', 'collections_12_mths_ex_med', 'grade', 'loan_amnt_squared', 'delinq_2yrs', 'pub_rec', 'chargeoff_within_12_mths', 'delinq_amnt', 'inq_last_6mths', 'year', 'acc_now_delinq', 'total_acc', 'verification_status'}\n",
            "\u001b[1m3527/3527\u001b[0m \u001b[32m━━━━━━━━━━━━━━━━━━━━\u001b[0m\u001b[37m\u001b[0m \u001b[1m9s\u001b[0m 2ms/step\n",
            "Processed dataset saved with predicted return values from the neural network.\n"
          ]
        }
      ]
    },
    {
      "cell_type": "code",
      "source": [
        "# # Add predicted default probability as a new feature\n",
        "# # Assuming X_l is the DataFrame you want to use for prediction\n",
        "# # and it needs to be scaled\n",
        "\n",
        "# from sklearn.preprocessing import StandardScaler  # Import StandardScaler if not already imported\n",
        "\n",
        "\n",
        "# # Scale the features using StandardScaler\n",
        "# scaler = StandardScaler()\n",
        "# X_l_scaled = scaler.fit_transform(test_data)  # Fit and transform\n",
        "\n",
        "# # Convert the scaled data back into a DataFrame for easier handling\n",
        "# X_l_scaled_df = pd.DataFrame(X_l_scaled, columns=test_data.columns)\n",
        "\n",
        "# # Now you can use X_l_scaled_df for prediction\n",
        "# test_data['return'] = rf_model.predict(X_l_scaled_df)\n",
        "\n",
        "# # Save processed dataset\n",
        "# # test_data.to_csv(\"processed_loan_data.csv\", index=False)\n",
        "# # print(\"Processed dataset saved with predicted default probabilities.\")"
      ],
      "metadata": {
        "id": "MFFexBZ2KkjC"
      },
      "execution_count": 53,
      "outputs": []
    },
    {
      "cell_type": "code",
      "source": [
        "set(data.columns)-set(test_data.columns)"
      ],
      "metadata": {
        "colab": {
          "base_uri": "https://localhost:8080/"
        },
        "id": "Tt7AftUUylTa",
        "outputId": "deca39cf-b946-421c-9538-ee70004f5681"
      },
      "execution_count": 55,
      "outputs": [
        {
          "output_type": "execute_result",
          "data": {
            "text/plain": [
              "{'loan_status'}"
            ]
          },
          "metadata": {},
          "execution_count": 55
        }
      ]
    },
    {
      "cell_type": "code",
      "source": [
        "test_data.columns"
      ],
      "metadata": {
        "id": "THwd0To_Ge2j",
        "colab": {
          "base_uri": "https://localhost:8080/"
        },
        "outputId": "f4bc54fc-fe74-40ca-ea97-382c2416fd4b"
      },
      "execution_count": 56,
      "outputs": [
        {
          "output_type": "execute_result",
          "data": {
            "text/plain": [
              "Index(['loan_amnt', 'funded_amnt', 'int_rate', 'installment', 'grade',\n",
              "       'sub_grade', 'emp_length', 'home_ownership', 'annual_inc',\n",
              "       'verification_status', 'addr_state', 'dti', 'delinq_2yrs',\n",
              "       'fico_range_low', 'fico_range_high', 'inq_last_6mths',\n",
              "       'mths_since_last_delinq', 'open_acc', 'pub_rec', 'revol_bal',\n",
              "       'revol_util', 'total_acc', 'collections_12_mths_ex_med',\n",
              "       'acc_now_delinq', 'chargeoff_within_12_mths', 'delinq_amnt',\n",
              "       'pub_rec_bankruptcies', 'tax_liens', 'year', 'fico_avg',\n",
              "       'loan_amnt_squared', 'return'],\n",
              "      dtype='object')"
            ]
          },
          "metadata": {},
          "execution_count": 56
        }
      ]
    },
    {
      "cell_type": "code",
      "source": [
        "# Rename and keep only the 'return' column as a DataFrame\n",
        "# test_data_submission = test_data.rename(columns={'loan_default_prob': 'return'})[['return']]\n",
        "test_data_submission = test_data[['return']]\n",
        "\n",
        "# Insert an 'id' column starting from 1\n",
        "test_data_submission.insert(0, 'id', range(1, len(test_data_submission) + 1))\n",
        "\n",
        "# Save to CSV\n",
        "test_data_submission.to_csv('submission_test.csv', index=False)"
      ],
      "metadata": {
        "id": "c2GHcy69F84l"
      },
      "execution_count": 57,
      "outputs": []
    },
    {
      "cell_type": "markdown",
      "source": [
        "#Changes from assignment 2"
      ],
      "metadata": {
        "id": "U7CCYMpRUtvW"
      }
    },
    {
      "cell_type": "markdown",
      "source": [
        "\n",
        "\n",
        "1.   USE median for mths_since_last_delinq for missing vlaues\n",
        "\n"
      ],
      "metadata": {
        "id": "Mkk12-XrU_jO"
      }
    },
    {
      "cell_type": "markdown",
      "source": [
        "#Neual Networking and Random forcast\n",
        "\n",
        "performed a neural network and Random forcast and i chosse neural newrok for the submition file.\n",
        "\n"
      ],
      "metadata": {
        "id": "SAJE6q76VSyN"
      }
    }
  ]
}